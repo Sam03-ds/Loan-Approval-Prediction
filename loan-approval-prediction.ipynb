{
 "cells": [
  {
   "cell_type": "code",
   "execution_count": 1,
   "id": "4c789185",
   "metadata": {
    "_cell_guid": "b1076dfc-b9ad-4769-8c92-a6c4dae69d19",
    "_uuid": "8f2839f25d086af736a60e9eeb907d3b93b6e0e5",
    "execution": {
     "iopub.execute_input": "2024-10-28T19:37:22.744301Z",
     "iopub.status.busy": "2024-10-28T19:37:22.743811Z",
     "iopub.status.idle": "2024-10-28T19:37:26.495436Z",
     "shell.execute_reply": "2024-10-28T19:37:26.494377Z"
    },
    "papermill": {
     "duration": 3.766532,
     "end_time": "2024-10-28T19:37:26.498049",
     "exception": false,
     "start_time": "2024-10-28T19:37:22.731517",
     "status": "completed"
    },
    "tags": []
   },
   "outputs": [
    {
     "name": "stdout",
     "output_type": "stream",
     "text": [
      "/kaggle/input/playground-series-s4e10/sample_submission.csv\n",
      "/kaggle/input/playground-series-s4e10/train.csv\n",
      "/kaggle/input/playground-series-s4e10/test.csv\n"
     ]
    }
   ],
   "source": [
    "import numpy as np # linear algebra\n",
    "import pandas as pd # data processing, CSV file I/O (e.g. pd.read_csv)\n",
    "\n",
    "import os\n",
    "for dirname, _, filenames in os.walk('/kaggle/input'):\n",
    "    for filename in filenames:\n",
    "        print(os.path.join(dirname, filename))\n",
    "\n",
    "import seaborn as sns\n",
    "import matplotlib.pyplot as plt\n",
    "\n",
    "from sklearn.preprocessing import LabelEncoder\n",
    "\n",
    "from sklearn.model_selection import train_test_split\n",
    "from catboost import CatBoostClassifier, Pool\n",
    "import optuna\n",
    "\n",
    "\n",
    "from sklearn.metrics import (\n",
    "    accuracy_score, \n",
    "    precision_score, \n",
    "    recall_score, \n",
    "    f1_score, \n",
    "    roc_auc_score, \n",
    "    roc_curve, \n",
    "    confusion_matrix,\n",
    "    precision_recall_curve,\n",
    "    confusion_matrix,\n",
    "    ConfusionMatrixDisplay,\n",
    "    auc\n",
    ")"
   ]
  },
  {
   "cell_type": "code",
   "execution_count": 2,
   "id": "b69c5a65",
   "metadata": {
    "execution": {
     "iopub.execute_input": "2024-10-28T19:37:26.529367Z",
     "iopub.status.busy": "2024-10-28T19:37:26.528264Z",
     "iopub.status.idle": "2024-10-28T19:37:26.801111Z",
     "shell.execute_reply": "2024-10-28T19:37:26.799811Z"
    },
    "papermill": {
     "duration": 0.294251,
     "end_time": "2024-10-28T19:37:26.803985",
     "exception": false,
     "start_time": "2024-10-28T19:37:26.509734",
     "status": "completed"
    },
    "tags": []
   },
   "outputs": [],
   "source": [
    "train_data = pd.read_csv('/kaggle/input/playground-series-s4e10/train.csv')\n",
    "test_data = pd.read_csv('/kaggle/input/playground-series-s4e10/test.csv')\n",
    "sample_submission = pd.read_csv('/kaggle/input/playground-series-s4e10/sample_submission.csv')"
   ]
  },
  {
   "cell_type": "code",
   "execution_count": 3,
   "id": "ea40d01a",
   "metadata": {
    "execution": {
     "iopub.execute_input": "2024-10-28T19:37:26.827985Z",
     "iopub.status.busy": "2024-10-28T19:37:26.827568Z",
     "iopub.status.idle": "2024-10-28T19:37:26.855726Z",
     "shell.execute_reply": "2024-10-28T19:37:26.854709Z"
    },
    "papermill": {
     "duration": 0.042516,
     "end_time": "2024-10-28T19:37:26.858080",
     "exception": false,
     "start_time": "2024-10-28T19:37:26.815564",
     "status": "completed"
    },
    "tags": []
   },
   "outputs": [
    {
     "data": {
      "text/html": [
       "<div>\n",
       "<style scoped>\n",
       "    .dataframe tbody tr th:only-of-type {\n",
       "        vertical-align: middle;\n",
       "    }\n",
       "\n",
       "    .dataframe tbody tr th {\n",
       "        vertical-align: top;\n",
       "    }\n",
       "\n",
       "    .dataframe thead th {\n",
       "        text-align: right;\n",
       "    }\n",
       "</style>\n",
       "<table border=\"1\" class=\"dataframe\">\n",
       "  <thead>\n",
       "    <tr style=\"text-align: right;\">\n",
       "      <th></th>\n",
       "      <th>id</th>\n",
       "      <th>person_age</th>\n",
       "      <th>person_income</th>\n",
       "      <th>person_home_ownership</th>\n",
       "      <th>person_emp_length</th>\n",
       "      <th>loan_intent</th>\n",
       "      <th>loan_grade</th>\n",
       "      <th>loan_amnt</th>\n",
       "      <th>loan_int_rate</th>\n",
       "      <th>loan_percent_income</th>\n",
       "      <th>cb_person_default_on_file</th>\n",
       "      <th>cb_person_cred_hist_length</th>\n",
       "      <th>loan_status</th>\n",
       "    </tr>\n",
       "  </thead>\n",
       "  <tbody>\n",
       "    <tr>\n",
       "      <th>0</th>\n",
       "      <td>0</td>\n",
       "      <td>37</td>\n",
       "      <td>35000</td>\n",
       "      <td>RENT</td>\n",
       "      <td>0.0</td>\n",
       "      <td>EDUCATION</td>\n",
       "      <td>B</td>\n",
       "      <td>6000</td>\n",
       "      <td>11.49</td>\n",
       "      <td>0.17</td>\n",
       "      <td>N</td>\n",
       "      <td>14</td>\n",
       "      <td>0</td>\n",
       "    </tr>\n",
       "    <tr>\n",
       "      <th>1</th>\n",
       "      <td>1</td>\n",
       "      <td>22</td>\n",
       "      <td>56000</td>\n",
       "      <td>OWN</td>\n",
       "      <td>6.0</td>\n",
       "      <td>MEDICAL</td>\n",
       "      <td>C</td>\n",
       "      <td>4000</td>\n",
       "      <td>13.35</td>\n",
       "      <td>0.07</td>\n",
       "      <td>N</td>\n",
       "      <td>2</td>\n",
       "      <td>0</td>\n",
       "    </tr>\n",
       "    <tr>\n",
       "      <th>2</th>\n",
       "      <td>2</td>\n",
       "      <td>29</td>\n",
       "      <td>28800</td>\n",
       "      <td>OWN</td>\n",
       "      <td>8.0</td>\n",
       "      <td>PERSONAL</td>\n",
       "      <td>A</td>\n",
       "      <td>6000</td>\n",
       "      <td>8.90</td>\n",
       "      <td>0.21</td>\n",
       "      <td>N</td>\n",
       "      <td>10</td>\n",
       "      <td>0</td>\n",
       "    </tr>\n",
       "    <tr>\n",
       "      <th>3</th>\n",
       "      <td>3</td>\n",
       "      <td>30</td>\n",
       "      <td>70000</td>\n",
       "      <td>RENT</td>\n",
       "      <td>14.0</td>\n",
       "      <td>VENTURE</td>\n",
       "      <td>B</td>\n",
       "      <td>12000</td>\n",
       "      <td>11.11</td>\n",
       "      <td>0.17</td>\n",
       "      <td>N</td>\n",
       "      <td>5</td>\n",
       "      <td>0</td>\n",
       "    </tr>\n",
       "    <tr>\n",
       "      <th>4</th>\n",
       "      <td>4</td>\n",
       "      <td>22</td>\n",
       "      <td>60000</td>\n",
       "      <td>RENT</td>\n",
       "      <td>2.0</td>\n",
       "      <td>MEDICAL</td>\n",
       "      <td>A</td>\n",
       "      <td>6000</td>\n",
       "      <td>6.92</td>\n",
       "      <td>0.10</td>\n",
       "      <td>N</td>\n",
       "      <td>3</td>\n",
       "      <td>0</td>\n",
       "    </tr>\n",
       "  </tbody>\n",
       "</table>\n",
       "</div>"
      ],
      "text/plain": [
       "   id  person_age  person_income person_home_ownership  person_emp_length  \\\n",
       "0   0          37          35000                  RENT                0.0   \n",
       "1   1          22          56000                   OWN                6.0   \n",
       "2   2          29          28800                   OWN                8.0   \n",
       "3   3          30          70000                  RENT               14.0   \n",
       "4   4          22          60000                  RENT                2.0   \n",
       "\n",
       "  loan_intent loan_grade  loan_amnt  loan_int_rate  loan_percent_income  \\\n",
       "0   EDUCATION          B       6000          11.49                 0.17   \n",
       "1     MEDICAL          C       4000          13.35                 0.07   \n",
       "2    PERSONAL          A       6000           8.90                 0.21   \n",
       "3     VENTURE          B      12000          11.11                 0.17   \n",
       "4     MEDICAL          A       6000           6.92                 0.10   \n",
       "\n",
       "  cb_person_default_on_file  cb_person_cred_hist_length  loan_status  \n",
       "0                         N                          14            0  \n",
       "1                         N                           2            0  \n",
       "2                         N                          10            0  \n",
       "3                         N                           5            0  \n",
       "4                         N                           3            0  "
      ]
     },
     "execution_count": 3,
     "metadata": {},
     "output_type": "execute_result"
    }
   ],
   "source": [
    "train_data.head()"
   ]
  },
  {
   "cell_type": "code",
   "execution_count": 4,
   "id": "ec8bb33b",
   "metadata": {
    "execution": {
     "iopub.execute_input": "2024-10-28T19:37:26.890062Z",
     "iopub.status.busy": "2024-10-28T19:37:26.889698Z",
     "iopub.status.idle": "2024-10-28T19:37:26.953740Z",
     "shell.execute_reply": "2024-10-28T19:37:26.952712Z"
    },
    "papermill": {
     "duration": 0.079559,
     "end_time": "2024-10-28T19:37:26.956274",
     "exception": false,
     "start_time": "2024-10-28T19:37:26.876715",
     "status": "completed"
    },
    "tags": []
   },
   "outputs": [
    {
     "data": {
      "text/html": [
       "<div>\n",
       "<style scoped>\n",
       "    .dataframe tbody tr th:only-of-type {\n",
       "        vertical-align: middle;\n",
       "    }\n",
       "\n",
       "    .dataframe tbody tr th {\n",
       "        vertical-align: top;\n",
       "    }\n",
       "\n",
       "    .dataframe thead th {\n",
       "        text-align: right;\n",
       "    }\n",
       "</style>\n",
       "<table border=\"1\" class=\"dataframe\">\n",
       "  <thead>\n",
       "    <tr style=\"text-align: right;\">\n",
       "      <th></th>\n",
       "      <th>id</th>\n",
       "      <th>person_age</th>\n",
       "      <th>person_income</th>\n",
       "      <th>person_emp_length</th>\n",
       "      <th>loan_amnt</th>\n",
       "      <th>loan_int_rate</th>\n",
       "      <th>loan_percent_income</th>\n",
       "      <th>cb_person_cred_hist_length</th>\n",
       "      <th>loan_status</th>\n",
       "    </tr>\n",
       "  </thead>\n",
       "  <tbody>\n",
       "    <tr>\n",
       "      <th>count</th>\n",
       "      <td>58645.000000</td>\n",
       "      <td>58645.000000</td>\n",
       "      <td>5.864500e+04</td>\n",
       "      <td>58645.000000</td>\n",
       "      <td>58645.000000</td>\n",
       "      <td>58645.000000</td>\n",
       "      <td>58645.000000</td>\n",
       "      <td>58645.000000</td>\n",
       "      <td>58645.000000</td>\n",
       "    </tr>\n",
       "    <tr>\n",
       "      <th>mean</th>\n",
       "      <td>29322.000000</td>\n",
       "      <td>27.550857</td>\n",
       "      <td>6.404617e+04</td>\n",
       "      <td>4.701015</td>\n",
       "      <td>9217.556518</td>\n",
       "      <td>10.677874</td>\n",
       "      <td>0.159238</td>\n",
       "      <td>5.813556</td>\n",
       "      <td>0.142382</td>\n",
       "    </tr>\n",
       "    <tr>\n",
       "      <th>std</th>\n",
       "      <td>16929.497605</td>\n",
       "      <td>6.033216</td>\n",
       "      <td>3.793111e+04</td>\n",
       "      <td>3.959784</td>\n",
       "      <td>5563.807384</td>\n",
       "      <td>3.034697</td>\n",
       "      <td>0.091692</td>\n",
       "      <td>4.029196</td>\n",
       "      <td>0.349445</td>\n",
       "    </tr>\n",
       "    <tr>\n",
       "      <th>min</th>\n",
       "      <td>0.000000</td>\n",
       "      <td>20.000000</td>\n",
       "      <td>4.200000e+03</td>\n",
       "      <td>0.000000</td>\n",
       "      <td>500.000000</td>\n",
       "      <td>5.420000</td>\n",
       "      <td>0.000000</td>\n",
       "      <td>2.000000</td>\n",
       "      <td>0.000000</td>\n",
       "    </tr>\n",
       "    <tr>\n",
       "      <th>0%</th>\n",
       "      <td>0.000000</td>\n",
       "      <td>20.000000</td>\n",
       "      <td>4.200000e+03</td>\n",
       "      <td>0.000000</td>\n",
       "      <td>500.000000</td>\n",
       "      <td>5.420000</td>\n",
       "      <td>0.000000</td>\n",
       "      <td>2.000000</td>\n",
       "      <td>0.000000</td>\n",
       "    </tr>\n",
       "    <tr>\n",
       "      <th>10%</th>\n",
       "      <td>5864.400000</td>\n",
       "      <td>22.000000</td>\n",
       "      <td>3.120000e+04</td>\n",
       "      <td>0.000000</td>\n",
       "      <td>3000.000000</td>\n",
       "      <td>6.760000</td>\n",
       "      <td>0.060000</td>\n",
       "      <td>2.000000</td>\n",
       "      <td>0.000000</td>\n",
       "    </tr>\n",
       "    <tr>\n",
       "      <th>20%</th>\n",
       "      <td>11728.800000</td>\n",
       "      <td>23.000000</td>\n",
       "      <td>3.948000e+04</td>\n",
       "      <td>1.000000</td>\n",
       "      <td>5000.000000</td>\n",
       "      <td>7.510000</td>\n",
       "      <td>0.080000</td>\n",
       "      <td>3.000000</td>\n",
       "      <td>0.000000</td>\n",
       "    </tr>\n",
       "    <tr>\n",
       "      <th>30%</th>\n",
       "      <td>17593.200000</td>\n",
       "      <td>24.000000</td>\n",
       "      <td>4.500000e+04</td>\n",
       "      <td>2.000000</td>\n",
       "      <td>5600.000000</td>\n",
       "      <td>8.000000</td>\n",
       "      <td>0.100000</td>\n",
       "      <td>3.000000</td>\n",
       "      <td>0.000000</td>\n",
       "    </tr>\n",
       "    <tr>\n",
       "      <th>40%</th>\n",
       "      <td>23457.600000</td>\n",
       "      <td>25.000000</td>\n",
       "      <td>5.000000e+04</td>\n",
       "      <td>3.000000</td>\n",
       "      <td>7000.000000</td>\n",
       "      <td>9.990000</td>\n",
       "      <td>0.120000</td>\n",
       "      <td>4.000000</td>\n",
       "      <td>0.000000</td>\n",
       "    </tr>\n",
       "    <tr>\n",
       "      <th>50%</th>\n",
       "      <td>29322.000000</td>\n",
       "      <td>26.000000</td>\n",
       "      <td>5.800000e+04</td>\n",
       "      <td>4.000000</td>\n",
       "      <td>8000.000000</td>\n",
       "      <td>10.750000</td>\n",
       "      <td>0.140000</td>\n",
       "      <td>4.000000</td>\n",
       "      <td>0.000000</td>\n",
       "    </tr>\n",
       "    <tr>\n",
       "      <th>60%</th>\n",
       "      <td>35186.400000</td>\n",
       "      <td>27.000000</td>\n",
       "      <td>6.300000e+04</td>\n",
       "      <td>5.000000</td>\n",
       "      <td>10000.000000</td>\n",
       "      <td>11.490000</td>\n",
       "      <td>0.170000</td>\n",
       "      <td>5.000000</td>\n",
       "      <td>0.000000</td>\n",
       "    </tr>\n",
       "    <tr>\n",
       "      <th>70%</th>\n",
       "      <td>41050.800000</td>\n",
       "      <td>29.000000</td>\n",
       "      <td>7.200000e+04</td>\n",
       "      <td>6.000000</td>\n",
       "      <td>10800.000000</td>\n",
       "      <td>12.530000</td>\n",
       "      <td>0.200000</td>\n",
       "      <td>7.000000</td>\n",
       "      <td>0.000000</td>\n",
       "    </tr>\n",
       "    <tr>\n",
       "      <th>80%</th>\n",
       "      <td>46915.200000</td>\n",
       "      <td>31.000000</td>\n",
       "      <td>8.311920e+04</td>\n",
       "      <td>7.000000</td>\n",
       "      <td>13000.000000</td>\n",
       "      <td>13.490000</td>\n",
       "      <td>0.230000</td>\n",
       "      <td>9.000000</td>\n",
       "      <td>0.000000</td>\n",
       "    </tr>\n",
       "    <tr>\n",
       "      <th>90%</th>\n",
       "      <td>52779.600000</td>\n",
       "      <td>36.000000</td>\n",
       "      <td>1.000000e+05</td>\n",
       "      <td>10.000000</td>\n",
       "      <td>16000.000000</td>\n",
       "      <td>14.720000</td>\n",
       "      <td>0.290000</td>\n",
       "      <td>11.000000</td>\n",
       "      <td>1.000000</td>\n",
       "    </tr>\n",
       "    <tr>\n",
       "      <th>max</th>\n",
       "      <td>58644.000000</td>\n",
       "      <td>123.000000</td>\n",
       "      <td>1.900000e+06</td>\n",
       "      <td>123.000000</td>\n",
       "      <td>35000.000000</td>\n",
       "      <td>23.220000</td>\n",
       "      <td>0.830000</td>\n",
       "      <td>30.000000</td>\n",
       "      <td>1.000000</td>\n",
       "    </tr>\n",
       "  </tbody>\n",
       "</table>\n",
       "</div>"
      ],
      "text/plain": [
       "                 id    person_age  person_income  person_emp_length  \\\n",
       "count  58645.000000  58645.000000   5.864500e+04       58645.000000   \n",
       "mean   29322.000000     27.550857   6.404617e+04           4.701015   \n",
       "std    16929.497605      6.033216   3.793111e+04           3.959784   \n",
       "min        0.000000     20.000000   4.200000e+03           0.000000   \n",
       "0%         0.000000     20.000000   4.200000e+03           0.000000   \n",
       "10%     5864.400000     22.000000   3.120000e+04           0.000000   \n",
       "20%    11728.800000     23.000000   3.948000e+04           1.000000   \n",
       "30%    17593.200000     24.000000   4.500000e+04           2.000000   \n",
       "40%    23457.600000     25.000000   5.000000e+04           3.000000   \n",
       "50%    29322.000000     26.000000   5.800000e+04           4.000000   \n",
       "60%    35186.400000     27.000000   6.300000e+04           5.000000   \n",
       "70%    41050.800000     29.000000   7.200000e+04           6.000000   \n",
       "80%    46915.200000     31.000000   8.311920e+04           7.000000   \n",
       "90%    52779.600000     36.000000   1.000000e+05          10.000000   \n",
       "max    58644.000000    123.000000   1.900000e+06         123.000000   \n",
       "\n",
       "          loan_amnt  loan_int_rate  loan_percent_income  \\\n",
       "count  58645.000000   58645.000000         58645.000000   \n",
       "mean    9217.556518      10.677874             0.159238   \n",
       "std     5563.807384       3.034697             0.091692   \n",
       "min      500.000000       5.420000             0.000000   \n",
       "0%       500.000000       5.420000             0.000000   \n",
       "10%     3000.000000       6.760000             0.060000   \n",
       "20%     5000.000000       7.510000             0.080000   \n",
       "30%     5600.000000       8.000000             0.100000   \n",
       "40%     7000.000000       9.990000             0.120000   \n",
       "50%     8000.000000      10.750000             0.140000   \n",
       "60%    10000.000000      11.490000             0.170000   \n",
       "70%    10800.000000      12.530000             0.200000   \n",
       "80%    13000.000000      13.490000             0.230000   \n",
       "90%    16000.000000      14.720000             0.290000   \n",
       "max    35000.000000      23.220000             0.830000   \n",
       "\n",
       "       cb_person_cred_hist_length   loan_status  \n",
       "count                58645.000000  58645.000000  \n",
       "mean                     5.813556      0.142382  \n",
       "std                      4.029196      0.349445  \n",
       "min                      2.000000      0.000000  \n",
       "0%                       2.000000      0.000000  \n",
       "10%                      2.000000      0.000000  \n",
       "20%                      3.000000      0.000000  \n",
       "30%                      3.000000      0.000000  \n",
       "40%                      4.000000      0.000000  \n",
       "50%                      4.000000      0.000000  \n",
       "60%                      5.000000      0.000000  \n",
       "70%                      7.000000      0.000000  \n",
       "80%                      9.000000      0.000000  \n",
       "90%                     11.000000      1.000000  \n",
       "max                     30.000000      1.000000  "
      ]
     },
     "execution_count": 4,
     "metadata": {},
     "output_type": "execute_result"
    }
   ],
   "source": [
    "train_data.describe(percentiles = (np.arange(0, 1, 0.1)))"
   ]
  },
  {
   "cell_type": "code",
   "execution_count": 5,
   "id": "ec85150e",
   "metadata": {
    "execution": {
     "iopub.execute_input": "2024-10-28T19:37:26.983073Z",
     "iopub.status.busy": "2024-10-28T19:37:26.982633Z",
     "iopub.status.idle": "2024-10-28T19:37:26.991622Z",
     "shell.execute_reply": "2024-10-28T19:37:26.990596Z"
    },
    "papermill": {
     "duration": 0.02353,
     "end_time": "2024-10-28T19:37:26.994030",
     "exception": false,
     "start_time": "2024-10-28T19:37:26.970500",
     "status": "completed"
    },
    "tags": []
   },
   "outputs": [
    {
     "data": {
      "text/plain": [
       "id                              int64\n",
       "person_age                      int64\n",
       "person_income                   int64\n",
       "person_home_ownership          object\n",
       "person_emp_length             float64\n",
       "loan_intent                    object\n",
       "loan_grade                     object\n",
       "loan_amnt                       int64\n",
       "loan_int_rate                 float64\n",
       "loan_percent_income           float64\n",
       "cb_person_default_on_file      object\n",
       "cb_person_cred_hist_length      int64\n",
       "loan_status                     int64\n",
       "dtype: object"
      ]
     },
     "execution_count": 5,
     "metadata": {},
     "output_type": "execute_result"
    }
   ],
   "source": [
    "train_data.dtypes"
   ]
  },
  {
   "cell_type": "code",
   "execution_count": 6,
   "id": "6e6c7752",
   "metadata": {
    "execution": {
     "iopub.execute_input": "2024-10-28T19:37:27.022367Z",
     "iopub.status.busy": "2024-10-28T19:37:27.022037Z",
     "iopub.status.idle": "2024-10-28T19:37:27.053932Z",
     "shell.execute_reply": "2024-10-28T19:37:27.052995Z"
    },
    "papermill": {
     "duration": 0.046604,
     "end_time": "2024-10-28T19:37:27.056190",
     "exception": false,
     "start_time": "2024-10-28T19:37:27.009586",
     "status": "completed"
    },
    "tags": []
   },
   "outputs": [
    {
     "data": {
      "text/plain": [
       "id                            0\n",
       "person_age                    0\n",
       "person_income                 0\n",
       "person_home_ownership         0\n",
       "person_emp_length             0\n",
       "loan_intent                   0\n",
       "loan_grade                    0\n",
       "loan_amnt                     0\n",
       "loan_int_rate                 0\n",
       "loan_percent_income           0\n",
       "cb_person_default_on_file     0\n",
       "cb_person_cred_hist_length    0\n",
       "loan_status                   0\n",
       "dtype: int64"
      ]
     },
     "execution_count": 6,
     "metadata": {},
     "output_type": "execute_result"
    }
   ],
   "source": [
    "train_data.isna().sum()"
   ]
  },
  {
   "cell_type": "code",
   "execution_count": 7,
   "id": "8afcd51f",
   "metadata": {
    "execution": {
     "iopub.execute_input": "2024-10-28T19:37:27.081533Z",
     "iopub.status.busy": "2024-10-28T19:37:27.081121Z",
     "iopub.status.idle": "2024-10-28T19:37:27.096704Z",
     "shell.execute_reply": "2024-10-28T19:37:27.095742Z"
    },
    "papermill": {
     "duration": 0.030435,
     "end_time": "2024-10-28T19:37:27.098758",
     "exception": false,
     "start_time": "2024-10-28T19:37:27.068323",
     "status": "completed"
    },
    "tags": []
   },
   "outputs": [
    {
     "data": {
      "text/plain": [
       "loan_status\n",
       "0    0.857618\n",
       "1    0.142382\n",
       "Name: proportion, dtype: float64"
      ]
     },
     "execution_count": 7,
     "metadata": {},
     "output_type": "execute_result"
    }
   ],
   "source": [
    "# target distribution\n",
    "train_data['loan_status'].value_counts(normalize=True)"
   ]
  },
  {
   "cell_type": "code",
   "execution_count": 8,
   "id": "4407a8c3",
   "metadata": {
    "execution": {
     "iopub.execute_input": "2024-10-28T19:37:27.122000Z",
     "iopub.status.busy": "2024-10-28T19:37:27.121602Z",
     "iopub.status.idle": "2024-10-28T19:37:27.149502Z",
     "shell.execute_reply": "2024-10-28T19:37:27.148537Z"
    },
    "papermill": {
     "duration": 0.042785,
     "end_time": "2024-10-28T19:37:27.152602",
     "exception": false,
     "start_time": "2024-10-28T19:37:27.109817",
     "status": "completed"
    },
    "tags": []
   },
   "outputs": [],
   "source": [
    "features_list = list(train_data.drop(['id', 'loan_status'], axis = 1).columns)\n",
    "num_features = train_data[features_list].select_dtypes(include=['number']).columns.to_list()\n",
    "cat_features = train_data[features_list].select_dtypes(include=['object']).columns.to_list()"
   ]
  },
  {
   "cell_type": "markdown",
   "id": "de14d441",
   "metadata": {
    "papermill": {
     "duration": 0.011107,
     "end_time": "2024-10-28T19:37:27.178123",
     "exception": false,
     "start_time": "2024-10-28T19:37:27.167016",
     "status": "completed"
    },
    "tags": []
   },
   "source": [
    "## Feature Selection"
   ]
  },
  {
   "cell_type": "code",
   "execution_count": 9,
   "id": "03b8fc61",
   "metadata": {
    "execution": {
     "iopub.execute_input": "2024-10-28T19:37:27.203009Z",
     "iopub.status.busy": "2024-10-28T19:37:27.202126Z",
     "iopub.status.idle": "2024-10-28T19:37:27.211323Z",
     "shell.execute_reply": "2024-10-28T19:37:27.210257Z"
    },
    "papermill": {
     "duration": 0.024199,
     "end_time": "2024-10-28T19:37:27.213818",
     "exception": false,
     "start_time": "2024-10-28T19:37:27.189619",
     "status": "completed"
    },
    "tags": []
   },
   "outputs": [],
   "source": [
    "def const_feature(df, features_lst, N):\n",
    "    \"\"\"\n",
    "        Function for deleting const features\n",
    "        Parameters:\n",
    "            df: pd.Dataframe\n",
    "            features_lst: list\n",
    "               list of features\n",
    "            N: float\n",
    "                The percentage for a constant value in the sample\n",
    "    \"\"\"\n",
    "    features_list = features_lst.copy()\n",
    "    \n",
    "    # list for const features\n",
    "    wrong_features = list()\n",
    "    for feature in features_list:\n",
    "        # calculate the share of the maximum value in the feature from the total\n",
    "        # if the share is greater than N, add the feature to the list for deletion\n",
    "        if (df[feature].value_counts().head(1).unique() / df.shape[0]) > N:\n",
    "            wrong_features.append(feature)\n",
    "\n",
    "    return wrong_features"
   ]
  },
  {
   "cell_type": "code",
   "execution_count": 10,
   "id": "cb87bb86",
   "metadata": {
    "execution": {
     "iopub.execute_input": "2024-10-28T19:37:27.241887Z",
     "iopub.status.busy": "2024-10-28T19:37:27.241435Z",
     "iopub.status.idle": "2024-10-28T19:37:27.294535Z",
     "shell.execute_reply": "2024-10-28T19:37:27.293312Z"
    },
    "papermill": {
     "duration": 0.067876,
     "end_time": "2024-10-28T19:37:27.296828",
     "exception": false,
     "start_time": "2024-10-28T19:37:27.228952",
     "status": "completed"
    },
    "tags": []
   },
   "outputs": [
    {
     "name": "stdout",
     "output_type": "stream",
     "text": [
      "List of const features:  []\n"
     ]
    }
   ],
   "source": [
    "print('List of const features: ',  const_feature(train_data, features_list, 0.9))"
   ]
  },
  {
   "cell_type": "code",
   "execution_count": 11,
   "id": "779e9689",
   "metadata": {
    "execution": {
     "iopub.execute_input": "2024-10-28T19:37:27.322729Z",
     "iopub.status.busy": "2024-10-28T19:37:27.322403Z",
     "iopub.status.idle": "2024-10-28T19:37:27.328752Z",
     "shell.execute_reply": "2024-10-28T19:37:27.326635Z"
    },
    "papermill": {
     "duration": 0.021626,
     "end_time": "2024-10-28T19:37:27.331486",
     "exception": false,
     "start_time": "2024-10-28T19:37:27.309860",
     "status": "completed"
    },
    "tags": []
   },
   "outputs": [],
   "source": [
    "def remove_low_variance_features(df, features, threshold=0.1):\n",
    "    \n",
    "    variance = df[features].var()\n",
    "    # determine features with a variance below the threshold\n",
    "    low_variance_features = variance[variance < threshold].index\n",
    "    return low_variance_features"
   ]
  },
  {
   "cell_type": "code",
   "execution_count": 12,
   "id": "8226d416",
   "metadata": {
    "execution": {
     "iopub.execute_input": "2024-10-28T19:37:27.356142Z",
     "iopub.status.busy": "2024-10-28T19:37:27.355728Z",
     "iopub.status.idle": "2024-10-28T19:37:27.367550Z",
     "shell.execute_reply": "2024-10-28T19:37:27.366200Z"
    },
    "papermill": {
     "duration": 0.02695,
     "end_time": "2024-10-28T19:37:27.369766",
     "exception": false,
     "start_time": "2024-10-28T19:37:27.342816",
     "status": "completed"
    },
    "tags": []
   },
   "outputs": [
    {
     "name": "stdout",
     "output_type": "stream",
     "text": [
      "Фичи с низкой дисперсией:  Index(['loan_percent_income'], dtype='object')\n"
     ]
    }
   ],
   "source": [
    "print('Фичи с низкой дисперсией: ', remove_low_variance_features(train_data, num_features, threshold=0.1))"
   ]
  },
  {
   "cell_type": "code",
   "execution_count": 13,
   "id": "391025a0",
   "metadata": {
    "execution": {
     "iopub.execute_input": "2024-10-28T19:37:27.394157Z",
     "iopub.status.busy": "2024-10-28T19:37:27.393760Z",
     "iopub.status.idle": "2024-10-28T19:37:27.398719Z",
     "shell.execute_reply": "2024-10-28T19:37:27.397828Z"
    },
    "papermill": {
     "duration": 0.020539,
     "end_time": "2024-10-28T19:37:27.401383",
     "exception": false,
     "start_time": "2024-10-28T19:37:27.380844",
     "status": "completed"
    },
    "tags": []
   },
   "outputs": [],
   "source": [
    "features_list = list(set(features_list) - set('loan_percent_income'))"
   ]
  },
  {
   "cell_type": "code",
   "execution_count": 14,
   "id": "8132cca4",
   "metadata": {
    "execution": {
     "iopub.execute_input": "2024-10-28T19:37:27.431638Z",
     "iopub.status.busy": "2024-10-28T19:37:27.431312Z",
     "iopub.status.idle": "2024-10-28T19:37:28.263732Z",
     "shell.execute_reply": "2024-10-28T19:37:28.262701Z"
    },
    "papermill": {
     "duration": 0.848966,
     "end_time": "2024-10-28T19:37:28.266731",
     "exception": false,
     "start_time": "2024-10-28T19:37:27.417765",
     "status": "completed"
    },
    "tags": []
   },
   "outputs": [
    {
     "data": {
      "text/plain": [
       "<Axes: >"
      ]
     },
     "execution_count": 14,
     "metadata": {},
     "output_type": "execute_result"
    },
    {
     "data": {
      "image/png": "[encoded data removed]",
      "text/plain": [
       "<Figure size 3000x1000 with 2 Axes>"
      ]
     },
     "metadata": {},
     "output_type": "display_data"
    }
   ],
   "source": [
    "plt.figure(figsize=(30, 10))\n",
    "sns.heatmap(train_data[num_features + ['loan_status']].abs().corr(), annot = True, cmap= 'coolwarm')"
   ]
  },
  {
   "cell_type": "markdown",
   "id": "36097eff",
   "metadata": {
    "papermill": {
     "duration": 0.012939,
     "end_time": "2024-10-28T19:37:28.293023",
     "exception": false,
     "start_time": "2024-10-28T19:37:28.280084",
     "status": "completed"
    },
    "tags": []
   },
   "source": [
    "## Splitting data into train and valid set"
   ]
  },
  {
   "cell_type": "code",
   "execution_count": 15,
   "id": "04530ebd",
   "metadata": {
    "execution": {
     "iopub.execute_input": "2024-10-28T19:37:28.321016Z",
     "iopub.status.busy": "2024-10-28T19:37:28.320617Z",
     "iopub.status.idle": "2024-10-28T19:37:28.379645Z",
     "shell.execute_reply": "2024-10-28T19:37:28.378839Z"
    },
    "papermill": {
     "duration": 0.076033,
     "end_time": "2024-10-28T19:37:28.382360",
     "exception": false,
     "start_time": "2024-10-28T19:37:28.306327",
     "status": "completed"
    },
    "tags": []
   },
   "outputs": [],
   "source": [
    "X = train_data[num_features + cat_features]\n",
    "y = train_data['loan_status']\n",
    "X_train, X_valid, y_train, y_valid = train_test_split(X, y, stratify=y, test_size=0.3, random_state = 42)\n",
    "X_valid, X_test, y_valid, y_test = train_test_split(X_valid, y_valid, stratify=y_valid, test_size=0.2, random_state = 42)"
   ]
  },
  {
   "cell_type": "code",
   "execution_count": 16,
   "id": "a1d987b4",
   "metadata": {
    "execution": {
     "iopub.execute_input": "2024-10-28T19:37:28.411914Z",
     "iopub.status.busy": "2024-10-28T19:37:28.411024Z",
     "iopub.status.idle": "2024-10-28T19:37:28.416719Z",
     "shell.execute_reply": "2024-10-28T19:37:28.415776Z"
    },
    "papermill": {
     "duration": 0.02256,
     "end_time": "2024-10-28T19:37:28.419165",
     "exception": false,
     "start_time": "2024-10-28T19:37:28.396605",
     "status": "completed"
    },
    "tags": []
   },
   "outputs": [
    {
     "name": "stdout",
     "output_type": "stream",
     "text": [
      "Train size:  41051\n",
      "Valid size:  14075\n",
      "Test size:  3519\n"
     ]
    }
   ],
   "source": [
    "print('Train size: ', X_train.shape[0])\n",
    "print('Valid size: ',  X_valid.shape[0])\n",
    "print('Test size: ',  X_test.shape[0])"
   ]
  },
  {
   "cell_type": "code",
   "execution_count": 17,
   "id": "fb351831",
   "metadata": {
    "execution": {
     "iopub.execute_input": "2024-10-28T19:37:28.445475Z",
     "iopub.status.busy": "2024-10-28T19:37:28.445144Z",
     "iopub.status.idle": "2024-10-28T19:37:28.455205Z",
     "shell.execute_reply": "2024-10-28T19:37:28.454130Z"
    },
    "papermill": {
     "duration": 0.025036,
     "end_time": "2024-10-28T19:37:28.457193",
     "exception": false,
     "start_time": "2024-10-28T19:37:28.432157",
     "status": "completed"
    },
    "tags": []
   },
   "outputs": [
    {
     "name": "stdout",
     "output_type": "stream",
     "text": [
      "Train target: \n",
      "loan_status\n",
      "0    0.857616\n",
      "1    0.142384\n",
      "Name: proportion, dtype: float64\n",
      "Valid target: \n",
      "loan_status\n",
      "0    0.85762\n",
      "1    0.14238\n",
      "Name: proportion, dtype: float64\n",
      "Test target: \n",
      "loan_status\n",
      "0    0.85763\n",
      "1    0.14237\n",
      "Name: proportion, dtype: float64\n"
     ]
    }
   ],
   "source": [
    "print('Train target: ')\n",
    "print(y_train.value_counts(normalize=True))\n",
    "print('Valid target: ')\n",
    "print(y_valid.value_counts(normalize=True))\n",
    "print('Test target: ')\n",
    "print(y_test.value_counts(normalize=True))"
   ]
  },
  {
   "cell_type": "code",
   "execution_count": 18,
   "id": "635cb469",
   "metadata": {
    "execution": {
     "iopub.execute_input": "2024-10-28T19:37:28.485440Z",
     "iopub.status.busy": "2024-10-28T19:37:28.485087Z",
     "iopub.status.idle": "2024-10-28T19:37:28.497226Z",
     "shell.execute_reply": "2024-10-28T19:37:28.496458Z"
    },
    "papermill": {
     "duration": 0.029354,
     "end_time": "2024-10-28T19:37:28.499309",
     "exception": false,
     "start_time": "2024-10-28T19:37:28.469955",
     "status": "completed"
    },
    "tags": []
   },
   "outputs": [],
   "source": [
    "X_build = pd.concat([X_train, X_valid], axis = 0)\n",
    "y_build = pd.concat([y_train, y_valid], axis = 0)"
   ]
  },
  {
   "cell_type": "markdown",
   "id": "ca5dce53",
   "metadata": {
    "execution": {
     "iopub.execute_input": "2024-10-28T18:06:34.818808Z",
     "iopub.status.busy": "2024-10-28T18:06:34.818064Z",
     "iopub.status.idle": "2024-10-28T18:06:34.841205Z",
     "shell.execute_reply": "2024-10-28T18:06:34.840077Z",
     "shell.execute_reply.started": "2024-10-28T18:06:34.818761Z"
    },
    "papermill": {
     "duration": 0.012004,
     "end_time": "2024-10-28T19:37:28.524764",
     "exception": false,
     "start_time": "2024-10-28T19:37:28.512760",
     "status": "completed"
    },
    "tags": []
   },
   "source": [
    "## Modeling"
   ]
  },
  {
   "cell_type": "code",
   "execution_count": 19,
   "id": "62ee3790",
   "metadata": {
    "execution": {
     "iopub.execute_input": "2024-10-28T19:37:28.551947Z",
     "iopub.status.busy": "2024-10-28T19:37:28.551564Z",
     "iopub.status.idle": "2024-10-28T19:37:28.558259Z",
     "shell.execute_reply": "2024-10-28T19:37:28.557269Z"
    },
    "papermill": {
     "duration": 0.023165,
     "end_time": "2024-10-28T19:37:28.560645",
     "exception": false,
     "start_time": "2024-10-28T19:37:28.537480",
     "status": "completed"
    },
    "tags": []
   },
   "outputs": [],
   "source": [
    "def find_feature_importance_catboost(X_train, y_train, cat_features, model):\n",
    "    \n",
    "    pool = Pool(data=X_train, label=y_train, cat_features=cat_features)\n",
    "    \n",
    "    importance = pd.DataFrame({\n",
    "        'features': X_train.columns,\n",
    "        'importance': model.get_feature_importance(pool)\n",
    "    })\n",
    "    importance = importance.sort_values(by='importance', ascending = False)\n",
    "    \n",
    "    plt.figure(figsize=(20, 8))\n",
    "    sns.barplot(y = importance['features'], x = importance['importance'])\n",
    "    plt.show()\n",
    "    plt.close()"
   ]
  },
  {
   "cell_type": "code",
   "execution_count": 20,
   "id": "a0b41640",
   "metadata": {
    "execution": {
     "iopub.execute_input": "2024-10-28T19:37:28.587885Z",
     "iopub.status.busy": "2024-10-28T19:37:28.587534Z",
     "iopub.status.idle": "2024-10-28T19:37:28.594223Z",
     "shell.execute_reply": "2024-10-28T19:37:28.593280Z"
    },
    "papermill": {
     "duration": 0.02246,
     "end_time": "2024-10-28T19:37:28.596371",
     "exception": false,
     "start_time": "2024-10-28T19:37:28.573911",
     "status": "completed"
    },
    "tags": []
   },
   "outputs": [],
   "source": [
    "def find_best_threshold(X_build, y_build, clf):\n",
    "    \n",
    "    y_pred_proba = clf.predict_proba(X_build)[:, 1]\n",
    "    precisions, recalls, thresholds = precision_recall_curve(y_build,  y_pred_proba)  \n",
    "    f1_scores = 2 * (precisions * recalls) / (precisions + recalls)\n",
    "    f1_scores = np.nan_to_num(f1_scores, nan=0.0)\n",
    "    optimal_threshold = round(thresholds[np.argmax(f1_scores)], 2)\n",
    "    \n",
    "    y_pred_binary = [1 if k >= optimal_threshold else 0 for k in y_pred_proba]\n",
    "    \n",
    "    return optimal_threshold"
   ]
  },
  {
   "cell_type": "code",
   "execution_count": 21,
   "id": "1fc9fa04",
   "metadata": {
    "execution": {
     "iopub.execute_input": "2024-10-28T19:37:28.623109Z",
     "iopub.status.busy": "2024-10-28T19:37:28.622815Z",
     "iopub.status.idle": "2024-10-28T19:37:41.986061Z",
     "shell.execute_reply": "2024-10-28T19:37:41.985012Z"
    },
    "papermill": {
     "duration": 13.383635,
     "end_time": "2024-10-28T19:37:41.992697",
     "exception": false,
     "start_time": "2024-10-28T19:37:28.609062",
     "status": "completed"
    },
    "tags": []
   },
   "outputs": [
    {
     "name": "stdout",
     "output_type": "stream",
     "text": [
      "0:\ttest: 0.8773466\tbest: 0.8773466 (0)\ttotal: 91.1ms\tremaining: 3m 2s\n",
      "100:\ttest: 0.9497994\tbest: 0.9497994 (100)\ttotal: 2.81s\tremaining: 52.8s\n",
      "200:\ttest: 0.9546362\tbest: 0.9546463 (195)\ttotal: 5.55s\tremaining: 49.7s\n",
      "300:\ttest: 0.9564527\tbest: 0.9564717 (299)\ttotal: 8.31s\tremaining: 46.9s\n",
      "400:\ttest: 0.9565448\tbest: 0.9569213 (379)\ttotal: 11s\tremaining: 43.9s\n",
      "Stopped by overfitting detector  (100 iterations wait)\n",
      "\n",
      "bestTest = 0.9569213408\n",
      "bestIteration = 379\n",
      "\n",
      "Shrink model to first 380 iterations.\n"
     ]
    },
    {
     "data": {
      "text/plain": [
       "<catboost.core.CatBoostClassifier at 0x7f27c4977340>"
      ]
     },
     "execution_count": 21,
     "metadata": {},
     "output_type": "execute_result"
    }
   ],
   "source": [
    "model = CatBoostClassifier(\n",
    "    iterations=2000,\n",
    "    learning_rate = 0.15,\n",
    "    depth = 4,\n",
    "    grow_policy= 'Lossguide',\n",
    "    loss_function='Logloss',\n",
    "    eval_metric='AUC',\n",
    "    auto_class_weights='Balanced',\n",
    "    early_stopping_rounds=100,\n",
    "    cat_features=cat_features,\n",
    "    use_best_model = True,\n",
    "    random_seed=42             \n",
    ")\n",
    "\n",
    "model.fit(X_train, y_train, eval_set=(X_valid, y_valid), verbose=100)"
   ]
  },
  {
   "cell_type": "code",
   "execution_count": 22,
   "id": "aa57b582",
   "metadata": {
    "execution": {
     "iopub.execute_input": "2024-10-28T19:37:42.020983Z",
     "iopub.status.busy": "2024-10-28T19:37:42.020598Z",
     "iopub.status.idle": "2024-10-28T19:37:42.025105Z",
     "shell.execute_reply": "2024-10-28T19:37:42.024098Z"
    },
    "papermill": {
     "duration": 0.020841,
     "end_time": "2024-10-28T19:37:42.027088",
     "exception": false,
     "start_time": "2024-10-28T19:37:42.006247",
     "status": "completed"
    },
    "tags": []
   },
   "outputs": [],
   "source": [
    "0.9556067221\n",
    "\n",
    "0.1 - 0.9564463567\n",
    "depth=4 - 0.9575421686"
   ]
  },
  {
   "cell_type": "code",
   "execution_count": 23,
   "id": "0e4122be",
   "metadata": {
    "execution": {
     "iopub.execute_input": "2024-10-28T19:37:42.054684Z",
     "iopub.status.busy": "2024-10-28T19:37:42.054383Z",
     "iopub.status.idle": "2024-10-28T19:37:42.804637Z",
     "shell.execute_reply": "2024-10-28T19:37:42.803681Z"
    },
    "papermill": {
     "duration": 0.766883,
     "end_time": "2024-10-28T19:37:42.807091",
     "exception": false,
     "start_time": "2024-10-28T19:37:42.040208",
     "status": "completed"
    },
    "tags": []
   },
   "outputs": [
    {
     "data": {
      "image/png": "[encoded data removed]",
      "text/plain": [
       "<Figure size 2000x800 with 1 Axes>"
      ]
     },
     "metadata": {},
     "output_type": "display_data"
    }
   ],
   "source": [
    "find_feature_importance_catboost(X_train, y_train, cat_features, model)"
   ]
  },
  {
   "cell_type": "code",
   "execution_count": 24,
   "id": "92abbb83",
   "metadata": {
    "execution": {
     "iopub.execute_input": "2024-10-28T19:37:42.836391Z",
     "iopub.status.busy": "2024-10-28T19:37:42.836027Z",
     "iopub.status.idle": "2024-10-28T19:37:43.071862Z",
     "shell.execute_reply": "2024-10-28T19:37:43.070492Z"
    },
    "papermill": {
     "duration": 0.253591,
     "end_time": "2024-10-28T19:37:43.074595",
     "exception": false,
     "start_time": "2024-10-28T19:37:42.821004",
     "status": "completed"
    },
    "tags": []
   },
   "outputs": [
    {
     "name": "stdout",
     "output_type": "stream",
     "text": [
      "Optimal threshold:  0.67\n"
     ]
    }
   ],
   "source": [
    "model_threshold = find_best_threshold(X_build, y_build, model)\n",
    "print('Optimal threshold: ', model_threshold)"
   ]
  },
  {
   "cell_type": "code",
   "execution_count": 25,
   "id": "bedee637",
   "metadata": {
    "execution": {
     "iopub.execute_input": "2024-10-28T19:37:43.109911Z",
     "iopub.status.busy": "2024-10-28T19:37:43.108904Z",
     "iopub.status.idle": "2024-10-28T19:37:43.175913Z",
     "shell.execute_reply": "2024-10-28T19:37:43.174813Z"
    },
    "papermill": {
     "duration": 0.087434,
     "end_time": "2024-10-28T19:37:43.178556",
     "exception": false,
     "start_time": "2024-10-28T19:37:43.091122",
     "status": "completed"
    },
    "tags": []
   },
   "outputs": [
    {
     "name": "stdout",
     "output_type": "stream",
     "text": [
      "Accuracy score:  0.9474282466609832\n",
      "Recall score:  0.8251028806584362\n",
      "Precision score:  0.8003992015968064\n",
      "ROC-AUC score:  0.9558999958995198\n"
     ]
    }
   ],
   "source": [
    "# Evaluation of the deferred test sample\n",
    "predictions = model.predict(X_test)\n",
    "predictions_proba = model.predict_proba(X_test)[:, 1]\n",
    "predictions = [1 if k >= model_threshold else 0 for k in predictions_proba]\n",
    "\n",
    "print('Accuracy score: ', accuracy_score(predictions, y_test))\n",
    "print('Recall score: ', recall_score(predictions, y_test))\n",
    "print('Precision score: ', precision_score(predictions, y_test))\n",
    "print('ROC-AUC score: ', roc_auc_score(y_test, predictions_proba))"
   ]
  },
  {
   "cell_type": "code",
   "execution_count": 26,
   "id": "84d61b77",
   "metadata": {
    "execution": {
     "iopub.execute_input": "2024-10-28T19:37:43.214055Z",
     "iopub.status.busy": "2024-10-28T19:37:43.213058Z",
     "iopub.status.idle": "2024-10-28T19:37:43.481779Z",
     "shell.execute_reply": "2024-10-28T19:37:43.480645Z"
    },
    "papermill": {
     "duration": 0.288913,
     "end_time": "2024-10-28T19:37:43.483933",
     "exception": false,
     "start_time": "2024-10-28T19:37:43.195020",
     "status": "completed"
    },
    "tags": []
   },
   "outputs": [
    {
     "data": {
      "image/png": "[encoded data removed]",
      "text/plain": [
       "<Figure size 800x600 with 2 Axes>"
      ]
     },
     "metadata": {},
     "output_type": "display_data"
    }
   ],
   "source": [
    "# Calculating confusion matrix\n",
    "cm = confusion_matrix(y_test, predictions)\n",
    "\n",
    "# visualisation\n",
    "plt.figure(figsize=(8, 6))\n",
    "sns.heatmap(cm, annot=True, fmt='d', xticklabels=['Predicted Negative', 'Predicted Positive'], \n",
    "            yticklabels=['Actual Negative', 'Actual Positive'])\n",
    "plt.xlabel('Predicted Labels')\n",
    "plt.ylabel('True Labels')\n",
    "plt.title('Confusion Matrix')\n",
    "plt.show()"
   ]
  },
  {
   "cell_type": "markdown",
   "id": "22c55631",
   "metadata": {
    "papermill": {
     "duration": 0.015578,
     "end_time": "2024-10-28T19:37:43.515120",
     "exception": false,
     "start_time": "2024-10-28T19:37:43.499542",
     "status": "completed"
    },
    "tags": []
   },
   "source": [
    "## Optuna"
   ]
  },
  {
   "cell_type": "code",
   "execution_count": 27,
   "id": "833ac479",
   "metadata": {
    "execution": {
     "iopub.execute_input": "2024-10-28T19:37:43.547666Z",
     "iopub.status.busy": "2024-10-28T19:37:43.547246Z",
     "iopub.status.idle": "2024-10-28T19:45:25.870818Z",
     "shell.execute_reply": "2024-10-28T19:45:25.869672Z"
    },
    "papermill": {
     "duration": 462.342362,
     "end_time": "2024-10-28T19:45:25.873308",
     "exception": false,
     "start_time": "2024-10-28T19:37:43.530946",
     "status": "completed"
    },
    "tags": []
   },
   "outputs": [
    {
     "name": "stderr",
     "output_type": "stream",
     "text": [
      "[I 2024-10-28 19:37:43,554] A new study created in memory with name: no-name-95dd1d03-acfc-48e5-a20a-264c2282846c\n"
     ]
    },
    {
     "name": "stdout",
     "output_type": "stream",
     "text": [
      "0:\ttest: 0.8857855\tbest: 0.8857855 (0)\ttotal: 60.6ms\tremaining: 24.8s\n",
      "100:\ttest: 0.9470065\tbest: 0.9483739 (80)\ttotal: 4.87s\tremaining: 15s\n"
     ]
    },
    {
     "name": "stderr",
     "output_type": "stream",
     "text": [
      "[I 2024-10-28 19:37:50,376] Trial 0 finished with value: 0.9483739008603621 and parameters: {'iterations': 411, 'depth': 9, 'learning_rate': 0.2641299698848961, 'l2_leaf_reg': 3.6691825323466816, 'border_count': 146, 'random_strength': 6.672951013836848, 'bagging_temperature': 0.9029095110764823}. Best is trial 0 with value: 0.9483739008603621.\n"
     ]
    },
    {
     "name": "stdout",
     "output_type": "stream",
     "text": [
      "Stopped by overfitting detector  (50 iterations wait)\n",
      "\n",
      "bestTest = 0.9483739009\n",
      "bestIteration = 80\n",
      "\n",
      "Shrink model to first 81 iterations.\n",
      "0:\ttest: 0.9063052\tbest: 0.9063052 (0)\ttotal: 89.1ms\tremaining: 44s\n",
      "100:\ttest: 0.9406571\tbest: 0.9408330 (95)\ttotal: 5.3s\tremaining: 20.6s\n",
      "200:\ttest: 0.9481275\tbest: 0.9485029 (186)\ttotal: 13.3s\tremaining: 19.4s\n"
     ]
    },
    {
     "name": "stderr",
     "output_type": "stream",
     "text": [
      "[I 2024-10-28 19:38:06,709] Trial 1 finished with value: 0.948502919601936 and parameters: {'iterations': 494, 'depth': 10, 'learning_rate': 0.11667605439373052, 'l2_leaf_reg': 2.856648447000653, 'border_count': 107, 'random_strength': 1.8405257523853913, 'bagging_temperature': 0.390111598277326}. Best is trial 1 with value: 0.948502919601936.\n"
     ]
    },
    {
     "name": "stdout",
     "output_type": "stream",
     "text": [
      "Stopped by overfitting detector  (50 iterations wait)\n",
      "\n",
      "bestTest = 0.9485029196\n",
      "bestIteration = 186\n",
      "\n",
      "Shrink model to first 187 iterations.\n",
      "0:\ttest: 0.8825860\tbest: 0.8825860 (0)\ttotal: 12.8ms\tremaining: 2.34s\n",
      "100:\ttest: 0.9495332\tbest: 0.9495332 (100)\ttotal: 1.17s\tremaining: 963ms\n"
     ]
    },
    {
     "name": "stderr",
     "output_type": "stream",
     "text": [
      "[I 2024-10-28 19:38:09,001] Trial 2 finished with value: 0.9541263343580423 and parameters: {'iterations': 184, 'depth': 6, 'learning_rate': 0.2489550556102339, 'l2_leaf_reg': 1.85369333885699, 'border_count': 200, 'random_strength': 3.2082660525159454, 'bagging_temperature': 0.1469954636243792}. Best is trial 2 with value: 0.9541263343580423.\n"
     ]
    },
    {
     "name": "stdout",
     "output_type": "stream",
     "text": [
      "183:\ttest: 0.9541263\tbest: 0.9541263 (183)\ttotal: 2.15s\tremaining: 0us\n",
      "\n",
      "bestTest = 0.9541263344\n",
      "bestIteration = 183\n",
      "\n",
      "0:\ttest: 0.8960975\tbest: 0.8960975 (0)\ttotal: 58.3ms\tremaining: 16.5s\n",
      "100:\ttest: 0.9379746\tbest: 0.9379746 (100)\ttotal: 3.71s\tremaining: 6.72s\n",
      "200:\ttest: 0.9519830\tbest: 0.9519830 (200)\ttotal: 9.65s\tremaining: 3.99s\n"
     ]
    },
    {
     "name": "stderr",
     "output_type": "stream",
     "text": [
      "[I 2024-10-28 19:38:23,894] Trial 3 finished with value: 0.9522877036086058 and parameters: {'iterations': 284, 'depth': 9, 'learning_rate': 0.12014579286192713, 'l2_leaf_reg': 1.935557829116603, 'border_count': 249, 'random_strength': 3.572969830046334, 'bagging_temperature': 0.5470058818568095}. Best is trial 2 with value: 0.9541263343580423.\n"
     ]
    },
    {
     "name": "stdout",
     "output_type": "stream",
     "text": [
      "283:\ttest: 0.9513925\tbest: 0.9522877 (233)\ttotal: 14.7s\tremaining: 0us\n",
      "\n",
      "bestTest = 0.9522877036\n",
      "bestIteration = 233\n",
      "\n",
      "Shrink model to first 234 iterations.\n",
      "0:\ttest: 0.8775055\tbest: 0.8775055 (0)\ttotal: 29.6ms\tremaining: 8.42s\n",
      "100:\ttest: 0.9485372\tbest: 0.9485372 (100)\ttotal: 2.48s\tremaining: 4.51s\n",
      "200:\ttest: 0.9543581\tbest: 0.9544161 (192)\ttotal: 5.07s\tremaining: 2.12s\n"
     ]
    },
    {
     "name": "stderr",
     "output_type": "stream",
     "text": [
      "[I 2024-10-28 19:38:31,597] Trial 4 finished with value: 0.9560478909631651 and parameters: {'iterations': 285, 'depth': 4, 'learning_rate': 0.26770582730608516, 'l2_leaf_reg': 7.786264800996939, 'border_count': 225, 'random_strength': 4.449842881963514, 'bagging_temperature': 0.9646601227263144}. Best is trial 4 with value: 0.9560478909631651.\n"
     ]
    },
    {
     "name": "stdout",
     "output_type": "stream",
     "text": [
      "284:\ttest: 0.9560184\tbest: 0.9560479 (269)\ttotal: 7.53s\tremaining: 0us\n",
      "\n",
      "bestTest = 0.956047891\n",
      "bestIteration = 269\n",
      "\n",
      "Shrink model to first 270 iterations.\n",
      "0:\ttest: 0.8485831\tbest: 0.8485831 (0)\ttotal: 29.4ms\tremaining: 11.2s\n",
      "100:\ttest: 0.9370173\tbest: 0.9370173 (100)\ttotal: 3.33s\tremaining: 9.26s\n",
      "200:\ttest: 0.9523424\tbest: 0.9525219 (198)\ttotal: 7.96s\tremaining: 7.17s\n"
     ]
    },
    {
     "name": "stderr",
     "output_type": "stream",
     "text": [
      "[I 2024-10-28 19:38:44,069] Trial 5 finished with value: 0.9529930694488745 and parameters: {'iterations': 382, 'depth': 8, 'learning_rate': 0.13929367779496085, 'l2_leaf_reg': 3.1756814432969187, 'border_count': 159, 'random_strength': 9.227353476427055, 'bagging_temperature': 0.07140073987831508}. Best is trial 4 with value: 0.9560478909631651.\n"
     ]
    },
    {
     "name": "stdout",
     "output_type": "stream",
     "text": [
      "Stopped by overfitting detector  (50 iterations wait)\n",
      "\n",
      "bestTest = 0.9529930694\n",
      "bestIteration = 243\n",
      "\n",
      "Shrink model to first 244 iterations.\n",
      "0:\ttest: 0.8770195\tbest: 0.8770195 (0)\ttotal: 37ms\tremaining: 17.3s\n",
      "100:\ttest: 0.9509953\tbest: 0.9509953 (100)\ttotal: 3.05s\tremaining: 11.1s\n",
      "200:\ttest: 0.9544408\tbest: 0.9550239 (169)\ttotal: 6.45s\tremaining: 8.57s\n"
     ]
    },
    {
     "name": "stderr",
     "output_type": "stream",
     "text": [
      "[I 2024-10-28 19:38:52,755] Trial 6 finished with value: 0.9552144985151889 and parameters: {'iterations': 468, 'depth': 6, 'learning_rate': 0.2512320069446757, 'l2_leaf_reg': 4.375466725816881, 'border_count': 204, 'random_strength': 8.018731357444064, 'bagging_temperature': 0.26131442096527624}. Best is trial 4 with value: 0.9560478909631651.\n"
     ]
    },
    {
     "name": "stdout",
     "output_type": "stream",
     "text": [
      "Stopped by overfitting detector  (50 iterations wait)\n",
      "\n",
      "bestTest = 0.9552144985\n",
      "bestIteration = 213\n",
      "\n",
      "Shrink model to first 214 iterations.\n",
      "0:\ttest: 0.8708054\tbest: 0.8708054 (0)\ttotal: 29ms\tremaining: 14.2s\n",
      "100:\ttest: 0.9137166\tbest: 0.9137166 (100)\ttotal: 2.37s\tremaining: 9.11s\n",
      "200:\ttest: 0.9208924\tbest: 0.9208924 (200)\ttotal: 4.7s\tremaining: 6.76s\n",
      "300:\ttest: 0.9239160\tbest: 0.9239160 (300)\ttotal: 6.94s\tremaining: 4.36s\n",
      "400:\ttest: 0.9255183\tbest: 0.9255183 (400)\ttotal: 9.13s\tremaining: 2.03s\n"
     ]
    },
    {
     "name": "stderr",
     "output_type": "stream",
     "text": [
      "[I 2024-10-28 19:39:04,644] Trial 7 finished with value: 0.9267248784677351 and parameters: {'iterations': 490, 'depth': 5, 'learning_rate': 0.010783817370004839, 'l2_leaf_reg': 5.332628373701101, 'border_count': 118, 'random_strength': 4.270833141727509, 'bagging_temperature': 0.4495283012653746}. Best is trial 4 with value: 0.9560478909631651.\n"
     ]
    },
    {
     "name": "stdout",
     "output_type": "stream",
     "text": [
      "489:\ttest: 0.9267249\tbest: 0.9267249 (489)\ttotal: 11.7s\tremaining: 0us\n",
      "\n",
      "bestTest = 0.9267248785\n",
      "bestIteration = 489\n",
      "\n",
      "0:\ttest: 0.8480119\tbest: 0.8480119 (0)\ttotal: 26.9ms\tremaining: 10.1s\n",
      "100:\ttest: 0.9294939\tbest: 0.9294939 (100)\ttotal: 3.13s\tremaining: 8.55s\n",
      "200:\ttest: 0.9469768\tbest: 0.9469768 (200)\ttotal: 7.51s\tremaining: 6.58s\n"
     ]
    },
    {
     "name": "stderr",
     "output_type": "stream",
     "text": [
      "[I 2024-10-28 19:39:17,298] Trial 8 finished with value: 0.9490928258634747 and parameters: {'iterations': 377, 'depth': 9, 'learning_rate': 0.08716906991102581, 'l2_leaf_reg': 4.450961715031545, 'border_count': 60, 'random_strength': 8.250800749806134, 'bagging_temperature': 0.07319148584010671}. Best is trial 4 with value: 0.9560478909631651.\n"
     ]
    },
    {
     "name": "stdout",
     "output_type": "stream",
     "text": [
      "Stopped by overfitting detector  (50 iterations wait)\n",
      "\n",
      "bestTest = 0.9490928259\n",
      "bestIteration = 237\n",
      "\n",
      "Shrink model to first 238 iterations.\n",
      "0:\ttest: 0.8889182\tbest: 0.8889182 (0)\ttotal: 37.4ms\tremaining: 7.89s\n",
      "100:\ttest: 0.9324450\tbest: 0.9324476 (99)\ttotal: 2.67s\tremaining: 2.94s\n",
      "200:\ttest: 0.9395508\tbest: 0.9395508 (200)\ttotal: 5.3s\tremaining: 290ms\n"
     ]
    },
    {
     "name": "stderr",
     "output_type": "stream",
     "text": [
      "[I 2024-10-28 19:39:23,114] Trial 9 finished with value: 0.9403912537777565 and parameters: {'iterations': 212, 'depth': 5, 'learning_rate': 0.06260858919100676, 'l2_leaf_reg': 6.873160672967164, 'border_count': 76, 'random_strength': 1.8731351814720425, 'bagging_temperature': 0.3373413391209731}. Best is trial 4 with value: 0.9560478909631651.\n"
     ]
    },
    {
     "name": "stdout",
     "output_type": "stream",
     "text": [
      "211:\ttest: 0.9403913\tbest: 0.9403913 (211)\ttotal: 5.64s\tremaining: 0us\n",
      "\n",
      "bestTest = 0.9403912538\n",
      "bestIteration = 211\n",
      "\n",
      "0:\ttest: 0.8830463\tbest: 0.8830463 (0)\ttotal: 13.4ms\tremaining: 1.47s\n"
     ]
    },
    {
     "name": "stderr",
     "output_type": "stream",
     "text": [
      "[I 2024-10-28 19:39:24,272] Trial 10 finished with value: 0.9442386869042132 and parameters: {'iterations': 111, 'depth': 4, 'learning_rate': 0.20637865629805374, 'l2_leaf_reg': 9.950176330237777, 'border_count': 224, 'random_strength': 0.2811366000770503, 'bagging_temperature': 0.9901349812900294}. Best is trial 4 with value: 0.9560478909631651.\n"
     ]
    },
    {
     "name": "stdout",
     "output_type": "stream",
     "text": [
      "100:\ttest: 0.9431295\tbest: 0.9431295 (100)\ttotal: 888ms\tremaining: 88ms\n",
      "110:\ttest: 0.9442387\tbest: 0.9442387 (110)\ttotal: 975ms\tremaining: 0us\n",
      "\n",
      "bestTest = 0.9442386869\n",
      "bestIteration = 110\n",
      "\n",
      "0:\ttest: 0.8915833\tbest: 0.8915833 (0)\ttotal: 39.1ms\tremaining: 10.8s\n",
      "100:\ttest: 0.9513013\tbest: 0.9513013 (100)\ttotal: 3.29s\tremaining: 5.76s\n",
      "200:\ttest: 0.9549450\tbest: 0.9550294 (199)\ttotal: 7.12s\tremaining: 2.73s\n"
     ]
    },
    {
     "name": "stderr",
     "output_type": "stream",
     "text": [
      "[I 2024-10-28 19:39:34,712] Trial 11 finished with value: 0.9559189962383245 and parameters: {'iterations': 278, 'depth': 7, 'learning_rate': 0.20648358670588463, 'l2_leaf_reg': 7.396383778523453, 'border_count': 182, 'random_strength': 6.4002688840256114, 'bagging_temperature': 0.734605458443346}. Best is trial 4 with value: 0.9560478909631651.\n"
     ]
    },
    {
     "name": "stdout",
     "output_type": "stream",
     "text": [
      "277:\ttest: 0.9555602\tbest: 0.9559190 (261)\ttotal: 10.2s\tremaining: 0us\n",
      "\n",
      "bestTest = 0.9559189962\n",
      "bestIteration = 261\n",
      "\n",
      "Shrink model to first 262 iterations.\n",
      "0:\ttest: 0.8881628\tbest: 0.8881628 (0)\ttotal: 56.4ms\tremaining: 15.6s\n",
      "100:\ttest: 0.9539259\tbest: 0.9539259 (100)\ttotal: 3.98s\tremaining: 6.97s\n"
     ]
    },
    {
     "name": "stderr",
     "output_type": "stream",
     "text": [
      "[I 2024-10-28 19:39:41,174] Trial 12 finished with value: 0.9547006971890036 and parameters: {'iterations': 278, 'depth': 7, 'learning_rate': 0.29718222844082687, 'l2_leaf_reg': 7.7314763646826545, 'border_count': 171, 'random_strength': 5.928862773705582, 'bagging_temperature': 0.7525477970682602}. Best is trial 4 with value: 0.9560478909631651.\n"
     ]
    },
    {
     "name": "stdout",
     "output_type": "stream",
     "text": [
      "Stopped by overfitting detector  (50 iterations wait)\n",
      "\n",
      "bestTest = 0.9547006972\n",
      "bestIteration = 111\n",
      "\n",
      "Shrink model to first 112 iterations.\n",
      "0:\ttest: 0.8781476\tbest: 0.8781476 (0)\ttotal: 25.9ms\tremaining: 8.61s\n",
      "100:\ttest: 0.9434529\tbest: 0.9434529 (100)\ttotal: 2.31s\tremaining: 5.31s\n",
      "200:\ttest: 0.9533977\tbest: 0.9533977 (200)\ttotal: 4.9s\tremaining: 3.21s\n",
      "300:\ttest: 0.9559066\tbest: 0.9559216 (298)\ttotal: 7.37s\tremaining: 784ms\n"
     ]
    },
    {
     "name": "stderr",
     "output_type": "stream",
     "text": [
      "[I 2024-10-28 19:39:49,541] Trial 13 finished with value: 0.9562945189068471 and parameters: {'iterations': 333, 'depth': 4, 'learning_rate': 0.19460837133062542, 'l2_leaf_reg': 8.064166682198511, 'border_count': 245, 'random_strength': 5.6194358962288256, 'bagging_temperature': 0.7307361057953734}. Best is trial 13 with value: 0.9562945189068471.\n"
     ]
    },
    {
     "name": "stdout",
     "output_type": "stream",
     "text": [
      "332:\ttest: 0.9562802\tbest: 0.9562945 (315)\ttotal: 8.15s\tremaining: 0us\n",
      "\n",
      "bestTest = 0.9562945189\n",
      "bestIteration = 315\n",
      "\n",
      "Shrink model to first 316 iterations.\n",
      "0:\ttest: 0.8779683\tbest: 0.8779683 (0)\ttotal: 30.1ms\tremaining: 10.2s\n",
      "100:\ttest: 0.9447587\tbest: 0.9447587 (100)\ttotal: 2.36s\tremaining: 5.58s\n",
      "200:\ttest: 0.9544108\tbest: 0.9544108 (200)\ttotal: 4.82s\tremaining: 3.33s\n",
      "300:\ttest: 0.9564839\tbest: 0.9564839 (300)\ttotal: 7.33s\tremaining: 950ms\n"
     ]
    },
    {
     "name": "stderr",
     "output_type": "stream",
     "text": [
      "[I 2024-10-28 19:39:58,098] Trial 14 finished with value: 0.9567919913631439 and parameters: {'iterations': 340, 'depth': 4, 'learning_rate': 0.1874942345164866, 'l2_leaf_reg': 9.38818085717632, 'border_count': 248, 'random_strength': 5.0336555339903075, 'bagging_temperature': 0.7352065183436666}. Best is trial 14 with value: 0.9567919913631439.\n"
     ]
    },
    {
     "name": "stdout",
     "output_type": "stream",
     "text": [
      "339:\ttest: 0.9566521\tbest: 0.9567920 (316)\ttotal: 8.34s\tremaining: 0us\n",
      "\n",
      "bestTest = 0.9567919914\n",
      "bestIteration = 316\n",
      "\n",
      "Shrink model to first 317 iterations.\n",
      "0:\ttest: 0.8779414\tbest: 0.8779414 (0)\ttotal: 27.8ms\tremaining: 9.47s\n",
      "100:\ttest: 0.9412091\tbest: 0.9412091 (100)\ttotal: 2.23s\tremaining: 5.32s\n",
      "200:\ttest: 0.9532063\tbest: 0.9532063 (200)\ttotal: 4.66s\tremaining: 3.27s\n",
      "300:\ttest: 0.9561813\tbest: 0.9561813 (300)\ttotal: 7.2s\tremaining: 981ms\n"
     ]
    },
    {
     "name": "stderr",
     "output_type": "stream",
     "text": [
      "[I 2024-10-28 19:40:06,513] Trial 15 finished with value: 0.9565375917041734 and parameters: {'iterations': 342, 'depth': 4, 'learning_rate': 0.18044463426490476, 'l2_leaf_reg': 9.899725905673089, 'border_count': 254, 'random_strength': 5.367054613552887, 'bagging_temperature': 0.6392315758737275}. Best is trial 14 with value: 0.9567919913631439.\n"
     ]
    },
    {
     "name": "stdout",
     "output_type": "stream",
     "text": [
      "341:\ttest: 0.9565003\tbest: 0.9565376 (334)\ttotal: 8.21s\tremaining: 0us\n",
      "\n",
      "bestTest = 0.9565375917\n",
      "bestIteration = 334\n",
      "\n",
      "Shrink model to first 335 iterations.\n",
      "0:\ttest: 0.8562807\tbest: 0.8562807 (0)\ttotal: 39ms\tremaining: 13.1s\n",
      "100:\ttest: 0.9440466\tbest: 0.9440466 (100)\ttotal: 3.15s\tremaining: 7.32s\n",
      "200:\ttest: 0.9546868\tbest: 0.9546868 (200)\ttotal: 6.04s\tremaining: 4.06s\n",
      "300:\ttest: 0.9563828\tbest: 0.9565321 (291)\ttotal: 9.1s\tremaining: 1.06s\n"
     ]
    },
    {
     "name": "stderr",
     "output_type": "stream",
     "text": [
      "[I 2024-10-28 19:40:16,929] Trial 16 finished with value: 0.956730685757968 and parameters: {'iterations': 336, 'depth': 5, 'learning_rate': 0.17320411085174442, 'l2_leaf_reg': 9.940963021663721, 'border_count': 255, 'random_strength': 7.284212581724574, 'bagging_temperature': 0.5828370063064026}. Best is trial 14 with value: 0.9567919913631439.\n"
     ]
    },
    {
     "name": "stdout",
     "output_type": "stream",
     "text": [
      "335:\ttest: 0.9567307\tbest: 0.9567307 (335)\ttotal: 10.1s\tremaining: 0us\n",
      "\n",
      "bestTest = 0.9567306858\n",
      "bestIteration = 335\n",
      "\n",
      "0:\ttest: 0.8504760\tbest: 0.8504760 (0)\ttotal: 33.6ms\tremaining: 7.29s\n",
      "100:\ttest: 0.9422034\tbest: 0.9422034 (100)\ttotal: 2.59s\tremaining: 3s\n",
      "200:\ttest: 0.9528376\tbest: 0.9528376 (200)\ttotal: 5.5s\tremaining: 466ms\n"
     ]
    },
    {
     "name": "stderr",
     "output_type": "stream",
     "text": [
      "[I 2024-10-28 19:40:23,143] Trial 17 finished with value: 0.9540098826454455 and parameters: {'iterations': 218, 'depth': 5, 'learning_rate': 0.16475090641747264, 'l2_leaf_reg': 8.957698901788762, 'border_count': 219, 'random_strength': 7.477907139028084, 'bagging_temperature': 0.5787147907515644}. Best is trial 14 with value: 0.9567919913631439.\n"
     ]
    },
    {
     "name": "stdout",
     "output_type": "stream",
     "text": [
      "217:\ttest: 0.9540099\tbest: 0.9540099 (217)\ttotal: 5.99s\tremaining: 0us\n",
      "\n",
      "bestTest = 0.9540098826\n",
      "bestIteration = 217\n",
      "\n",
      "0:\ttest: 0.8763671\tbest: 0.8763671 (0)\ttotal: 32.9ms\tremaining: 14.1s\n",
      "100:\ttest: 0.9516277\tbest: 0.9516277 (100)\ttotal: 3.02s\tremaining: 9.87s\n",
      "200:\ttest: 0.9559187\tbest: 0.9559971 (199)\ttotal: 6.35s\tremaining: 7.26s\n"
     ]
    },
    {
     "name": "stderr",
     "output_type": "stream",
     "text": [
      "[I 2024-10-28 19:40:33,237] Trial 18 finished with value: 0.9564057619166438 and parameters: {'iterations': 431, 'depth': 6, 'learning_rate': 0.2286784137659249, 'l2_leaf_reg': 6.261838303863366, 'border_count': 194, 'random_strength': 9.683367170317029, 'bagging_temperature': 0.8748707591262801}. Best is trial 14 with value: 0.9567919913631439.\n"
     ]
    },
    {
     "name": "stdout",
     "output_type": "stream",
     "text": [
      "300:\ttest: 0.9562320\tbest: 0.9564058 (253)\ttotal: 9.76s\tremaining: 4.22s\n",
      "Stopped by overfitting detector  (50 iterations wait)\n",
      "\n",
      "bestTest = 0.9564057619\n",
      "bestIteration = 253\n",
      "\n",
      "Shrink model to first 254 iterations.\n",
      "0:\ttest: 0.8654219\tbest: 0.8654219 (0)\ttotal: 30.9ms\tremaining: 10.3s\n",
      "100:\ttest: 0.9390516\tbest: 0.9390516 (100)\ttotal: 2.58s\tremaining: 5.99s\n",
      "200:\ttest: 0.9514096\tbest: 0.9514772 (198)\ttotal: 5.49s\tremaining: 3.66s\n",
      "300:\ttest: 0.9551983\tbest: 0.9551983 (300)\ttotal: 8.98s\tremaining: 1.01s\n"
     ]
    },
    {
     "name": "stderr",
     "output_type": "stream",
     "text": [
      "[I 2024-10-28 19:40:43,404] Trial 19 finished with value: 0.955518008800558 and parameters: {'iterations': 335, 'depth': 5, 'learning_rate': 0.15105161977345455, 'l2_leaf_reg': 8.930140225315156, 'border_count': 127, 'random_strength': 6.90142722337102, 'bagging_temperature': 0.6512963166310141}. Best is trial 14 with value: 0.9567919913631439.\n"
     ]
    },
    {
     "name": "stdout",
     "output_type": "stream",
     "text": [
      "334:\ttest: 0.9554668\tbest: 0.9555180 (330)\ttotal: 9.94s\tremaining: 0us\n",
      "\n",
      "bestTest = 0.9555180088\n",
      "bestIteration = 330\n",
      "\n",
      "Shrink model to first 331 iterations.\n",
      "0:\ttest: 0.8670540\tbest: 0.8670540 (0)\ttotal: 35.3ms\tremaining: 8.16s\n",
      "100:\ttest: 0.9264655\tbest: 0.9264655 (100)\ttotal: 2.54s\tremaining: 3.3s\n",
      "200:\ttest: 0.9422877\tbest: 0.9422877 (200)\ttotal: 5.51s\tremaining: 850ms\n"
     ]
    },
    {
     "name": "stderr",
     "output_type": "stream",
     "text": [
      "[I 2024-10-28 19:40:50,109] Trial 20 finished with value: 0.9438985710130562 and parameters: {'iterations': 232, 'depth': 6, 'learning_rate': 0.0875003549826189, 'l2_leaf_reg': 8.968267893416012, 'border_count': 34, 'random_strength': 8.198793759259022, 'bagging_temperature': 0.8216286987190646}. Best is trial 14 with value: 0.9567919913631439.\n"
     ]
    },
    {
     "name": "stdout",
     "output_type": "stream",
     "text": [
      "231:\ttest: 0.9438214\tbest: 0.9438986 (230)\ttotal: 6.48s\tremaining: 0us\n",
      "\n",
      "bestTest = 0.943898571\n",
      "bestIteration = 230\n",
      "\n",
      "Shrink model to first 231 iterations.\n",
      "0:\ttest: 0.8787633\tbest: 0.8787633 (0)\ttotal: 30.3ms\tremaining: 10.4s\n",
      "100:\ttest: 0.9394833\tbest: 0.9394833 (100)\ttotal: 2.3s\tremaining: 5.57s\n",
      "200:\ttest: 0.9527590\tbest: 0.9527590 (200)\ttotal: 4.83s\tremaining: 3.46s\n",
      "300:\ttest: 0.9550680\tbest: 0.9550680 (300)\ttotal: 7.38s\tremaining: 1.08s\n"
     ]
    },
    {
     "name": "stderr",
     "output_type": "stream",
     "text": [
      "[I 2024-10-28 19:40:58,811] Trial 21 finished with value: 0.9556104012668888 and parameters: {'iterations': 345, 'depth': 4, 'learning_rate': 0.1749094517724867, 'l2_leaf_reg': 9.839661366635486, 'border_count': 246, 'random_strength': 5.289852967855918, 'bagging_temperature': 0.6284678542971015}. Best is trial 14 with value: 0.9567919913631439.\n"
     ]
    },
    {
     "name": "stdout",
     "output_type": "stream",
     "text": [
      "344:\ttest: 0.9556104\tbest: 0.9556104 (344)\ttotal: 8.47s\tremaining: 0us\n",
      "\n",
      "bestTest = 0.9556104013\n",
      "bestIteration = 344\n",
      "\n",
      "0:\ttest: 0.8779414\tbest: 0.8779414 (0)\ttotal: 28.9ms\tremaining: 10.8s\n",
      "100:\ttest: 0.9414603\tbest: 0.9414603 (100)\ttotal: 2.28s\tremaining: 6.2s\n",
      "200:\ttest: 0.9536760\tbest: 0.9536760 (200)\ttotal: 4.73s\tremaining: 4.09s\n",
      "300:\ttest: 0.9558947\tbest: 0.9559171 (299)\ttotal: 7.28s\tremaining: 1.79s\n"
     ]
    },
    {
     "name": "stderr",
     "output_type": "stream",
     "text": [
      "[I 2024-10-28 19:41:07,950] Trial 22 finished with value: 0.9568642931186754 and parameters: {'iterations': 375, 'depth': 4, 'learning_rate': 0.17994379297813687, 'l2_leaf_reg': 9.303424251235722, 'border_count': 254, 'random_strength': 5.067014790949122, 'bagging_temperature': 0.49297522676983446}. Best is trial 22 with value: 0.9568642931186754.\n"
     ]
    },
    {
     "name": "stdout",
     "output_type": "stream",
     "text": [
      "374:\ttest: 0.9567575\tbest: 0.9568643 (365)\ttotal: 8.91s\tremaining: 0us\n",
      "\n",
      "bestTest = 0.9568642931\n",
      "bestIteration = 365\n",
      "\n",
      "Shrink model to first 366 iterations.\n",
      "0:\ttest: 0.8786437\tbest: 0.8786437 (0)\ttotal: 31.2ms\tremaining: 13.2s\n",
      "100:\ttest: 0.9478338\tbest: 0.9478338 (100)\ttotal: 2.51s\tremaining: 7.99s\n",
      "200:\ttest: 0.9540235\tbest: 0.9545687 (179)\ttotal: 5.75s\tremaining: 6.34s\n",
      "300:\ttest: 0.9557464\tbest: 0.9557596 (295)\ttotal: 8.45s\tremaining: 3.43s\n"
     ]
    },
    {
     "name": "stderr",
     "output_type": "stream",
     "text": [
      "[I 2024-10-28 19:41:19,421] Trial 23 finished with value: 0.9560403259424322 and parameters: {'iterations': 423, 'depth': 5, 'learning_rate': 0.22364304512748526, 'l2_leaf_reg': 8.554566937896725, 'border_count': 230, 'random_strength': 4.517080852661506, 'bagging_temperature': 0.49724611798081214}. Best is trial 22 with value: 0.9568642931186754.\n"
     ]
    },
    {
     "name": "stdout",
     "output_type": "stream",
     "text": [
      "400:\ttest: 0.9557472\tbest: 0.9560403 (351)\ttotal: 11.2s\tremaining: 615ms\n",
      "Stopped by overfitting detector  (50 iterations wait)\n",
      "\n",
      "bestTest = 0.9560403259\n",
      "bestIteration = 351\n",
      "\n",
      "Shrink model to first 352 iterations.\n",
      "0:\ttest: 0.8654219\tbest: 0.8654219 (0)\ttotal: 26.6ms\tremaining: 10.1s\n",
      "100:\ttest: 0.9342210\tbest: 0.9342210 (100)\ttotal: 2.09s\tremaining: 5.81s\n",
      "200:\ttest: 0.9498829\tbest: 0.9498829 (200)\ttotal: 4.38s\tremaining: 3.94s\n",
      "300:\ttest: 0.9536808\tbest: 0.9537309 (298)\ttotal: 6.79s\tremaining: 1.83s\n"
     ]
    },
    {
     "name": "stderr",
     "output_type": "stream",
     "text": [
      "[I 2024-10-28 19:41:28,396] Trial 24 finished with value: 0.9546489822112051 and parameters: {'iterations': 382, 'depth': 4, 'learning_rate': 0.12626921715333525, 'l2_leaf_reg': 6.517783790149658, 'border_count': 210, 'random_strength': 3.182769139603077, 'bagging_temperature': 0.4432626785053406}. Best is trial 22 with value: 0.9568642931186754.\n"
     ]
    },
    {
     "name": "stdout",
     "output_type": "stream",
     "text": [
      "381:\ttest: 0.9546186\tbest: 0.9546490 (365)\ttotal: 8.76s\tremaining: 0us\n",
      "\n",
      "bestTest = 0.9546489822\n",
      "bestIteration = 365\n",
      "\n",
      "Shrink model to first 366 iterations.\n",
      "0:\ttest: 0.8663708\tbest: 0.8663708 (0)\ttotal: 33.4ms\tremaining: 10.7s\n",
      "100:\ttest: 0.9454035\tbest: 0.9454035 (100)\ttotal: 2.62s\tremaining: 5.72s\n",
      "200:\ttest: 0.9552874\tbest: 0.9554088 (196)\ttotal: 5.57s\tremaining: 3.32s\n",
      "300:\ttest: 0.9565912\tbest: 0.9565980 (287)\ttotal: 8.36s\tremaining: 555ms\n"
     ]
    },
    {
     "name": "stderr",
     "output_type": "stream",
     "text": [
      "[I 2024-10-28 19:41:37,573] Trial 25 finished with value: 0.9566400295259037 and parameters: {'iterations': 321, 'depth': 5, 'learning_rate': 0.18715274311205438, 'l2_leaf_reg': 9.255055753950572, 'border_count': 237, 'random_strength': 7.326604065376648, 'bagging_temperature': 0.3015429075527593}. Best is trial 22 with value: 0.9568642931186754.\n"
     ]
    },
    {
     "name": "stdout",
     "output_type": "stream",
     "text": [
      "320:\ttest: 0.9565823\tbest: 0.9566400 (319)\ttotal: 8.95s\tremaining: 0us\n",
      "\n",
      "bestTest = 0.9566400295\n",
      "bestIteration = 319\n",
      "\n",
      "Shrink model to first 320 iterations.\n",
      "0:\ttest: 0.8779414\tbest: 0.8779414 (0)\ttotal: 26.4ms\tremaining: 6.59s\n",
      "100:\ttest: 0.9409855\tbest: 0.9409855 (100)\ttotal: 2.36s\tremaining: 3.5s\n",
      "200:\ttest: 0.9523477\tbest: 0.9523477 (200)\ttotal: 4.8s\tremaining: 1.2s\n"
     ]
    },
    {
     "name": "stderr",
     "output_type": "stream",
     "text": [
      "[I 2024-10-28 19:41:44,288] Trial 26 finished with value: 0.9544102706690007 and parameters: {'iterations': 251, 'depth': 4, 'learning_rate': 0.15477843626979432, 'l2_leaf_reg': 8.455806883197447, 'border_count': 254, 'random_strength': 2.4002535871680313, 'bagging_temperature': 0.5595257878775176}. Best is trial 22 with value: 0.9568642931186754.\n"
     ]
    },
    {
     "name": "stdout",
     "output_type": "stream",
     "text": [
      "250:\ttest: 0.9544103\tbest: 0.9544103 (250)\ttotal: 6.51s\tremaining: 0us\n",
      "\n",
      "bestTest = 0.9544102707\n",
      "bestIteration = 250\n",
      "\n",
      "0:\ttest: 0.8778690\tbest: 0.8778690 (0)\ttotal: 41.1ms\tremaining: 14.9s\n",
      "100:\ttest: 0.9475722\tbest: 0.9475722 (100)\ttotal: 2.87s\tremaining: 7.46s\n",
      "200:\ttest: 0.9547248\tbest: 0.9547980 (198)\ttotal: 5.72s\tremaining: 4.64s\n",
      "300:\ttest: 0.9555008\tbest: 0.9555686 (295)\ttotal: 8.63s\tremaining: 1.8s\n"
     ]
    },
    {
     "name": "stderr",
     "output_type": "stream",
     "text": [
      "[I 2024-10-28 19:41:54,955] Trial 27 finished with value: 0.9556882010975978 and parameters: {'iterations': 364, 'depth': 5, 'learning_rate': 0.21638108174270315, 'l2_leaf_reg': 7.2086918643215405, 'border_count': 232, 'random_strength': 6.162843981866475, 'bagging_temperature': 0.6883692296761961}. Best is trial 22 with value: 0.9568642931186754.\n"
     ]
    },
    {
     "name": "stdout",
     "output_type": "stream",
     "text": [
      "363:\ttest: 0.9556789\tbest: 0.9556882 (340)\ttotal: 10.4s\tremaining: 0us\n",
      "\n",
      "bestTest = 0.9556882011\n",
      "bestIteration = 340\n",
      "\n",
      "Shrink model to first 341 iterations.\n",
      "0:\ttest: 0.8847862\tbest: 0.8847862 (0)\ttotal: 41.3ms\tremaining: 12.7s\n",
      "100:\ttest: 0.9325643\tbest: 0.9325643 (100)\ttotal: 3.02s\tremaining: 6.23s\n",
      "200:\ttest: 0.9507933\tbest: 0.9507933 (200)\ttotal: 6.67s\tremaining: 3.58s\n",
      "300:\ttest: 0.9542645\tbest: 0.9542875 (291)\ttotal: 10.6s\tremaining: 282ms\n"
     ]
    },
    {
     "name": "stderr",
     "output_type": "stream",
     "text": [
      "[I 2024-10-28 19:42:06,090] Trial 28 finished with value: 0.9544193032210783 and parameters: {'iterations': 309, 'depth': 7, 'learning_rate': 0.09835840400508253, 'l2_leaf_reg': 5.616105241392622, 'border_count': 213, 'random_strength': 4.271429521758229, 'bagging_temperature': 0.7934393580147866}. Best is trial 22 with value: 0.9568642931186754.\n"
     ]
    },
    {
     "name": "stdout",
     "output_type": "stream",
     "text": [
      "308:\ttest: 0.9543960\tbest: 0.9544193 (306)\ttotal: 10.9s\tremaining: 0us\n",
      "\n",
      "bestTest = 0.9544193032\n",
      "bestIteration = 306\n",
      "\n",
      "Shrink model to first 307 iterations.\n",
      "0:\ttest: 0.8485831\tbest: 0.8485831 (0)\ttotal: 27.7ms\tremaining: 12.4s\n",
      "100:\ttest: 0.9501930\tbest: 0.9501930 (100)\ttotal: 2.94s\tremaining: 10.1s\n",
      "200:\ttest: 0.9557085\tbest: 0.9557847 (194)\ttotal: 6.24s\tremaining: 7.67s\n"
     ]
    },
    {
     "name": "stderr",
     "output_type": "stream",
     "text": [
      "[I 2024-10-28 19:42:14,333] Trial 29 finished with value: 0.9559467346476793 and parameters: {'iterations': 448, 'depth': 6, 'learning_rate': 0.23910996833397824, 'l2_leaf_reg': 9.520276831793657, 'border_count': 150, 'random_strength': 9.067187899725177, 'bagging_temperature': 0.8867647508422257}. Best is trial 22 with value: 0.9568642931186754.\n"
     ]
    },
    {
     "name": "stdout",
     "output_type": "stream",
     "text": [
      "Stopped by overfitting detector  (50 iterations wait)\n",
      "\n",
      "bestTest = 0.9559467346\n",
      "bestIteration = 203\n",
      "\n",
      "Shrink model to first 204 iterations.\n",
      "0:\ttest: 0.8936803\tbest: 0.8936803 (0)\ttotal: 49ms\tremaining: 19.6s\n",
      "100:\ttest: 0.9521576\tbest: 0.9522048 (86)\ttotal: 4.61s\tremaining: 13.6s\n"
     ]
    },
    {
     "name": "stderr",
     "output_type": "stream",
     "text": [
      "[I 2024-10-28 19:42:22,746] Trial 30 finished with value: 0.9524871638547113 and parameters: {'iterations': 400, 'depth': 8, 'learning_rate': 0.2800412530217944, 'l2_leaf_reg': 8.333053640610613, 'border_count': 184, 'random_strength': 6.7638437807709835, 'bagging_temperature': 0.48736668206883516}. Best is trial 22 with value: 0.9568642931186754.\n"
     ]
    },
    {
     "name": "stdout",
     "output_type": "stream",
     "text": [
      "Stopped by overfitting detector  (50 iterations wait)\n",
      "\n",
      "bestTest = 0.9524871639\n",
      "bestIteration = 129\n",
      "\n",
      "Shrink model to first 130 iterations.\n",
      "0:\ttest: 0.8661582\tbest: 0.8661582 (0)\ttotal: 37.5ms\tremaining: 11.6s\n",
      "100:\ttest: 0.9439505\tbest: 0.9439505 (100)\ttotal: 2.69s\tremaining: 5.59s\n",
      "200:\ttest: 0.9542954\tbest: 0.9542954 (200)\ttotal: 5.5s\tremaining: 3.01s\n",
      "300:\ttest: 0.9552529\tbest: 0.9554803 (260)\ttotal: 8.38s\tremaining: 278ms\n"
     ]
    },
    {
     "name": "stderr",
     "output_type": "stream",
     "text": [
      "[I 2024-10-28 19:42:31,651] Trial 31 finished with value: 0.9555325600972688 and parameters: {'iterations': 311, 'depth': 5, 'learning_rate': 0.1853180451254492, 'l2_leaf_reg': 9.19768299392228, 'border_count': 238, 'random_strength': 7.494119153010754, 'bagging_temperature': 0.29698728026001775}. Best is trial 22 with value: 0.9568642931186754.\n"
     ]
    },
    {
     "name": "stdout",
     "output_type": "stream",
     "text": [
      "310:\ttest: 0.9555326\tbest: 0.9555326 (310)\ttotal: 8.67s\tremaining: 0us\n",
      "\n",
      "bestTest = 0.9555325601\n",
      "bestIteration = 310\n",
      "\n",
      "0:\ttest: 0.8472635\tbest: 0.8472635 (0)\ttotal: 27.2ms\tremaining: 8.56s\n",
      "100:\ttest: 0.9435356\tbest: 0.9435356 (100)\ttotal: 2.4s\tremaining: 5.12s\n",
      "200:\ttest: 0.9532979\tbest: 0.9533683 (195)\ttotal: 4.97s\tremaining: 2.84s\n",
      "300:\ttest: 0.9559530\tbest: 0.9559530 (300)\ttotal: 7.41s\tremaining: 369ms\n"
     ]
    },
    {
     "name": "stderr",
     "output_type": "stream",
     "text": [
      "[I 2024-10-28 19:42:39,644] Trial 32 finished with value: 0.95627227857267 and parameters: {'iterations': 316, 'depth': 4, 'learning_rate': 0.19347665464621888, 'l2_leaf_reg': 9.40145353751308, 'border_count': 238, 'random_strength': 7.238420065510547, 'bagging_temperature': 0.21544867145906332}. Best is trial 22 with value: 0.9568642931186754.\n"
     ]
    },
    {
     "name": "stdout",
     "output_type": "stream",
     "text": [
      "315:\ttest: 0.9562723\tbest: 0.9562723 (313)\ttotal: 7.77s\tremaining: 0us\n",
      "\n",
      "bestTest = 0.9562722786\n",
      "bestIteration = 313\n",
      "\n",
      "Shrink model to first 314 iterations.\n",
      "0:\ttest: 0.8779414\tbest: 0.8779414 (0)\ttotal: 37ms\tremaining: 13.1s\n",
      "100:\ttest: 0.9389226\tbest: 0.9389226 (100)\ttotal: 2.57s\tremaining: 6.44s\n",
      "200:\ttest: 0.9525095\tbest: 0.9525095 (200)\ttotal: 5.46s\tremaining: 4.15s\n",
      "300:\ttest: 0.9553484\tbest: 0.9553718 (289)\ttotal: 9s\tremaining: 1.58s\n"
     ]
    },
    {
     "name": "stderr",
     "output_type": "stream",
     "text": [
      "[I 2024-10-28 19:42:50,546] Trial 33 finished with value: 0.9553771671304065 and parameters: {'iterations': 354, 'depth': 5, 'learning_rate': 0.14343579551867985, 'l2_leaf_reg': 9.29594369508817, 'border_count': 255, 'random_strength': 5.15619691508776, 'bagging_temperature': 0.4012066541128146}. Best is trial 22 with value: 0.9568642931186754.\n"
     ]
    },
    {
     "name": "stdout",
     "output_type": "stream",
     "text": [
      "353:\ttest: 0.9552100\tbest: 0.9553772 (305)\ttotal: 10.7s\tremaining: 0us\n",
      "\n",
      "bestTest = 0.9553771671\n",
      "bestIteration = 305\n",
      "\n",
      "Shrink model to first 306 iterations.\n",
      "0:\ttest: 0.8777178\tbest: 0.8777178 (0)\ttotal: 29.2ms\tremaining: 11.8s\n",
      "100:\ttest: 0.9405101\tbest: 0.9405101 (100)\ttotal: 2.41s\tremaining: 7.22s\n",
      "200:\ttest: 0.9524876\tbest: 0.9524876 (200)\ttotal: 4.98s\tremaining: 5.03s\n",
      "300:\ttest: 0.9543740\tbest: 0.9543740 (300)\ttotal: 7.52s\tremaining: 2.57s\n"
     ]
    },
    {
     "name": "stderr",
     "output_type": "stream",
     "text": [
      "[I 2024-10-28 19:43:00,913] Trial 34 finished with value: 0.9557005614320196 and parameters: {'iterations': 404, 'depth': 4, 'learning_rate': 0.17028174986641192, 'l2_leaf_reg': 8.603296374809617, 'border_count': 235, 'random_strength': 6.2983322656284955, 'bagging_temperature': 0.3639540262822719}. Best is trial 22 with value: 0.9568642931186754.\n"
     ]
    },
    {
     "name": "stdout",
     "output_type": "stream",
     "text": [
      "400:\ttest: 0.9556143\tbest: 0.9557006 (386)\ttotal: 10s\tremaining: 75.1ms\n",
      "403:\ttest: 0.9556109\tbest: 0.9557006 (386)\ttotal: 10.1s\tremaining: 0us\n",
      "\n",
      "bestTest = 0.9557005614\n",
      "bestIteration = 386\n",
      "\n",
      "Shrink model to first 387 iterations.\n",
      "0:\ttest: 0.8882936\tbest: 0.8882936 (0)\ttotal: 62.9ms\tremaining: 16.2s\n",
      "100:\ttest: 0.9484785\tbest: 0.9484785 (100)\ttotal: 6.11s\tremaining: 9.55s\n"
     ]
    },
    {
     "name": "stderr",
     "output_type": "stream",
     "text": [
      "[I 2024-10-28 19:43:12,720] Trial 35 finished with value: 0.9497098091117905 and parameters: {'iterations': 259, 'depth': 10, 'learning_rate': 0.2038158462302673, 'l2_leaf_reg': 9.976497816914957, 'border_count': 220, 'random_strength': 3.637315753170555, 'bagging_temperature': 0.18019583965103864}. Best is trial 22 with value: 0.9568642931186754.\n"
     ]
    },
    {
     "name": "stdout",
     "output_type": "stream",
     "text": [
      "Stopped by overfitting detector  (50 iterations wait)\n",
      "\n",
      "bestTest = 0.9497098091\n",
      "bestIteration = 126\n",
      "\n",
      "Shrink model to first 127 iterations.\n",
      "0:\ttest: 0.8786976\tbest: 0.8786976 (0)\ttotal: 14ms\tremaining: 2.37s\n",
      "100:\ttest: 0.9379711\tbest: 0.9379711 (100)\ttotal: 1s\tremaining: 696ms\n"
     ]
    },
    {
     "name": "stderr",
     "output_type": "stream",
     "text": [
      "[I 2024-10-28 19:43:14,624] Trial 36 finished with value: 0.9502433290985752 and parameters: {'iterations': 171, 'depth': 5, 'learning_rate': 0.16554810225397174, 'l2_leaf_reg': 1.4692445591782306, 'border_count': 241, 'random_strength': 8.975588699931722, 'bagging_temperature': 0.5928195230509665}. Best is trial 22 with value: 0.9568642931186754.\n"
     ]
    },
    {
     "name": "stdout",
     "output_type": "stream",
     "text": [
      "170:\ttest: 0.9502215\tbest: 0.9502433 (169)\ttotal: 1.71s\tremaining: 0us\n",
      "\n",
      "bestTest = 0.9502433291\n",
      "bestIteration = 169\n",
      "\n",
      "Shrink model to first 170 iterations.\n",
      "0:\ttest: 0.8673219\tbest: 0.8673219 (0)\ttotal: 37.8ms\tremaining: 12.1s\n",
      "100:\ttest: 0.9374620\tbest: 0.9374620 (100)\ttotal: 2.84s\tremaining: 6.22s\n",
      "200:\ttest: 0.9524364\tbest: 0.9525294 (194)\ttotal: 6.84s\tremaining: 4.12s\n",
      "300:\ttest: 0.9551657\tbest: 0.9552141 (299)\ttotal: 10.2s\tremaining: 712ms\n"
     ]
    },
    {
     "name": "stderr",
     "output_type": "stream",
     "text": [
      "[I 2024-10-28 19:43:25,855] Trial 37 finished with value: 0.9554129252885166 and parameters: {'iterations': 322, 'depth': 6, 'learning_rate': 0.13430052273107196, 'l2_leaf_reg': 7.89356707287471, 'border_count': 196, 'random_strength': 4.881907432572247, 'bagging_temperature': 0.0005925842402443315}. Best is trial 22 with value: 0.9568642931186754.\n"
     ]
    },
    {
     "name": "stdout",
     "output_type": "stream",
     "text": [
      "321:\ttest: 0.9554129\tbest: 0.9554129 (321)\ttotal: 11s\tremaining: 0us\n",
      "\n",
      "bestTest = 0.9554129253\n",
      "bestIteration = 321\n",
      "\n",
      "0:\ttest: 0.8706169\tbest: 0.8706169 (0)\ttotal: 23.9ms\tremaining: 7.14s\n",
      "100:\ttest: 0.9266120\tbest: 0.9266120 (100)\ttotal: 2.23s\tremaining: 4.36s\n",
      "200:\ttest: 0.9461835\tbest: 0.9461835 (200)\ttotal: 4.63s\tremaining: 2.26s\n"
     ]
    },
    {
     "name": "stderr",
     "output_type": "stream",
     "text": [
      "[I 2024-10-28 19:43:33,077] Trial 38 finished with value: 0.951915715416983 and parameters: {'iterations': 299, 'depth': 4, 'learning_rate': 0.11539308689034326, 'l2_leaf_reg': 9.456687605773865, 'border_count': 207, 'random_strength': 8.553852338858334, 'bagging_temperature': 0.5206933439304462}. Best is trial 22 with value: 0.9568642931186754.\n"
     ]
    },
    {
     "name": "stdout",
     "output_type": "stream",
     "text": [
      "298:\ttest: 0.9519157\tbest: 0.9519157 (298)\ttotal: 7.01s\tremaining: 0us\n",
      "\n",
      "bestTest = 0.9519157154\n",
      "bestIteration = 298\n",
      "\n",
      "0:\ttest: 0.8775055\tbest: 0.8775055 (0)\ttotal: 37.7ms\tremaining: 13.8s\n",
      "100:\ttest: 0.9512975\tbest: 0.9512975 (100)\ttotal: 2.81s\tremaining: 7.4s\n",
      "200:\ttest: 0.9556544\tbest: 0.9556883 (199)\ttotal: 5.71s\tremaining: 4.71s\n",
      "300:\ttest: 0.9558676\tbest: 0.9560109 (258)\ttotal: 8.49s\tremaining: 1.86s\n"
     ]
    },
    {
     "name": "stderr",
     "output_type": "stream",
     "text": [
      "[I 2024-10-28 19:43:43,787] Trial 39 finished with value: 0.9562304435946268 and parameters: {'iterations': 367, 'depth': 5, 'learning_rate': 0.24177374346424188, 'l2_leaf_reg': 8.690232718416185, 'border_count': 225, 'random_strength': 3.5939790117037145, 'bagging_temperature': 0.40796479151229575}. Best is trial 22 with value: 0.9568642931186754.\n"
     ]
    },
    {
     "name": "stdout",
     "output_type": "stream",
     "text": [
      "366:\ttest: 0.9561266\tbest: 0.9562304 (325)\ttotal: 10.5s\tremaining: 0us\n",
      "\n",
      "bestTest = 0.9562304436\n",
      "bestIteration = 325\n",
      "\n",
      "Shrink model to first 326 iterations.\n",
      "0:\ttest: 0.8392897\tbest: 0.8392897 (0)\ttotal: 24.9ms\tremaining: 9.53s\n",
      "100:\ttest: 0.9513586\tbest: 0.9513586 (100)\ttotal: 3.02s\tremaining: 8.48s\n"
     ]
    },
    {
     "name": "stderr",
     "output_type": "stream",
     "text": [
      "[I 2024-10-28 19:43:49,407] Trial 40 finished with value: 0.9533604896908195 and parameters: {'iterations': 384, 'depth': 6, 'learning_rate': 0.2577490583030838, 'l2_leaf_reg': 2.270375920754182, 'border_count': 135, 'random_strength': 7.8353153512268054, 'bagging_temperature': 0.323126049112801}. Best is trial 22 with value: 0.9568642931186754.\n"
     ]
    },
    {
     "name": "stdout",
     "output_type": "stream",
     "text": [
      "Stopped by overfitting detector  (50 iterations wait)\n",
      "\n",
      "bestTest = 0.9533604897\n",
      "bestIteration = 121\n",
      "\n",
      "Shrink model to first 122 iterations.\n",
      "0:\ttest: 0.8779414\tbest: 0.8779414 (0)\ttotal: 30.9ms\tremaining: 10.7s\n",
      "100:\ttest: 0.9429776\tbest: 0.9429776 (100)\ttotal: 2.54s\tremaining: 6.17s\n",
      "200:\ttest: 0.9530505\tbest: 0.9530505 (200)\ttotal: 5.53s\tremaining: 4.01s\n",
      "300:\ttest: 0.9557918\tbest: 0.9557918 (300)\ttotal: 8.15s\tremaining: 1.25s\n"
     ]
    },
    {
     "name": "stderr",
     "output_type": "stream",
     "text": [
      "[I 2024-10-28 19:43:58,965] Trial 41 finished with value: 0.9561133717983633 and parameters: {'iterations': 347, 'depth': 4, 'learning_rate': 0.18032780278976188, 'l2_leaf_reg': 9.62595595447767, 'border_count': 254, 'random_strength': 5.721184110755383, 'bagging_temperature': 0.6869026777432246}. Best is trial 22 with value: 0.9568642931186754.\n"
     ]
    },
    {
     "name": "stdout",
     "output_type": "stream",
     "text": [
      "346:\ttest: 0.9560915\tbest: 0.9561134 (345)\ttotal: 9.32s\tremaining: 0us\n",
      "\n",
      "bestTest = 0.9561133718\n",
      "bestIteration = 345\n",
      "\n",
      "Shrink model to first 346 iterations.\n",
      "0:\ttest: 0.8776355\tbest: 0.8776355 (0)\ttotal: 28.6ms\tremaining: 8.44s\n",
      "100:\ttest: 0.9376938\tbest: 0.9376938 (100)\ttotal: 2.45s\tremaining: 4.73s\n",
      "200:\ttest: 0.9504269\tbest: 0.9504372 (198)\ttotal: 4.99s\tremaining: 2.36s\n"
     ]
    },
    {
     "name": "stderr",
     "output_type": "stream",
     "text": [
      "[I 2024-10-28 19:44:06,608] Trial 42 finished with value: 0.9543930943514347 and parameters: {'iterations': 296, 'depth': 4, 'learning_rate': 0.16000523286337343, 'l2_leaf_reg': 9.901185785817182, 'border_count': 243, 'random_strength': 5.42953683484666, 'bagging_temperature': 0.6132974605228628}. Best is trial 22 with value: 0.9568642931186754.\n"
     ]
    },
    {
     "name": "stdout",
     "output_type": "stream",
     "text": [
      "295:\ttest: 0.9543931\tbest: 0.9543931 (295)\ttotal: 7.41s\tremaining: 0us\n",
      "\n",
      "bestTest = 0.9543930944\n",
      "bestIteration = 295\n",
      "\n",
      "0:\ttest: 0.8708587\tbest: 0.8708587 (0)\ttotal: 31.3ms\tremaining: 10.4s\n",
      "100:\ttest: 0.9419962\tbest: 0.9419962 (100)\ttotal: 2.42s\tremaining: 5.54s\n",
      "200:\ttest: 0.9520713\tbest: 0.9520713 (200)\ttotal: 4.9s\tremaining: 3.19s\n",
      "300:\ttest: 0.9548179\tbest: 0.9548179 (300)\ttotal: 7.34s\tremaining: 756ms\n"
     ]
    },
    {
     "name": "stderr",
     "output_type": "stream",
     "text": [
      "[I 2024-10-28 19:44:14,966] Trial 43 finished with value: 0.9550841155895482 and parameters: {'iterations': 332, 'depth': 4, 'learning_rate': 0.1899460841326162, 'l2_leaf_reg': 9.161524278981759, 'border_count': 85, 'random_strength': 4.909447782925367, 'bagging_temperature': 0.6506607585028763}. Best is trial 22 with value: 0.9568642931186754.\n"
     ]
    },
    {
     "name": "stdout",
     "output_type": "stream",
     "text": [
      "331:\ttest: 0.9550841\tbest: 0.9550841 (331)\ttotal: 8.12s\tremaining: 0us\n",
      "\n",
      "bestTest = 0.9550841156\n",
      "bestIteration = 331\n",
      "\n",
      "0:\ttest: 0.8665406\tbest: 0.8665406 (0)\ttotal: 35.1ms\tremaining: 13.8s\n",
      "100:\ttest: 0.9477428\tbest: 0.9477428 (100)\ttotal: 2.72s\tremaining: 7.92s\n",
      "200:\ttest: 0.9557861\tbest: 0.9558317 (198)\ttotal: 5.7s\tremaining: 5.5s\n",
      "300:\ttest: 0.9565069\tbest: 0.9567743 (277)\ttotal: 8.64s\tremaining: 2.7s\n"
     ]
    },
    {
     "name": "stderr",
     "output_type": "stream",
     "text": [
      "[I 2024-10-28 19:44:27,318] Trial 44 finished with value: 0.9569600753757169 and parameters: {'iterations': 395, 'depth': 5, 'learning_rate': 0.21272490454706455, 'l2_leaf_reg': 8.046223528794654, 'border_count': 254, 'random_strength': 6.844053798559218, 'bagging_temperature': 0.243793356698484}. Best is trial 44 with value: 0.9569600753757169.\n"
     ]
    },
    {
     "name": "stdout",
     "output_type": "stream",
     "text": [
      "394:\ttest: 0.9569262\tbest: 0.9569601 (365)\ttotal: 12.1s\tremaining: 0us\n",
      "\n",
      "bestTest = 0.9569600754\n",
      "bestIteration = 365\n",
      "\n",
      "Shrink model to first 366 iterations.\n",
      "0:\ttest: 0.8656295\tbest: 0.8656295 (0)\ttotal: 32.4ms\tremaining: 14.3s\n",
      "100:\ttest: 0.9493808\tbest: 0.9493808 (100)\ttotal: 2.74s\tremaining: 9.3s\n",
      "200:\ttest: 0.9554595\tbest: 0.9554595 (200)\ttotal: 5.6s\tremaining: 6.77s\n",
      "300:\ttest: 0.9567025\tbest: 0.9567731 (274)\ttotal: 8.6s\tremaining: 4.08s\n",
      "400:\ttest: 0.9572083\tbest: 0.9573391 (357)\ttotal: 11.5s\tremaining: 1.23s\n"
     ]
    },
    {
     "name": "stderr",
     "output_type": "stream",
     "text": [
      "[I 2024-10-28 19:44:39,258] Trial 45 finished with value: 0.9573391118516839 and parameters: {'iterations': 444, 'depth': 5, 'learning_rate': 0.21408409984938614, 'l2_leaf_reg': 8.242948971715437, 'border_count': 235, 'random_strength': 6.919881982509901, 'bagging_temperature': 0.2651439055521341}. Best is trial 45 with value: 0.9573391118516839.\n"
     ]
    },
    {
     "name": "stdout",
     "output_type": "stream",
     "text": [
      "Stopped by overfitting detector  (50 iterations wait)\n",
      "\n",
      "bestTest = 0.9573391119\n",
      "bestIteration = 357\n",
      "\n",
      "Shrink model to first 358 iterations.\n",
      "0:\ttest: 0.8651311\tbest: 0.8651311 (0)\ttotal: 41.8ms\tremaining: 19.5s\n",
      "100:\ttest: 0.9492885\tbest: 0.9493371 (99)\ttotal: 4s\tremaining: 14.5s\n",
      "200:\ttest: 0.9514290\tbest: 0.9518495 (154)\ttotal: 8.6s\tremaining: 11.4s\n",
      "Stopped by overfitting detector  (50 iterations wait)\n",
      "\n",
      "bestTest = 0.9518495112\n",
      "bestIteration = 154\n",
      "\n",
      "Shrink model to first 155 iterations.\n"
     ]
    },
    {
     "name": "stderr",
     "output_type": "stream",
     "text": [
      "[I 2024-10-28 19:44:48,264] Trial 46 finished with value: 0.9518495111508405 and parameters: {'iterations': 468, 'depth': 8, 'learning_rate': 0.215122658302634, 'l2_leaf_reg': 7.511833202960924, 'border_count': 227, 'random_strength': 6.6972415195807695, 'bagging_temperature': 0.10630829940819411}. Best is trial 45 with value: 0.9573391118516839.\n"
     ]
    },
    {
     "name": "stdout",
     "output_type": "stream",
     "text": [
      "0:\ttest: 0.8735295\tbest: 0.8735295 (0)\ttotal: 33.1ms\tremaining: 14.8s\n",
      "100:\ttest: 0.9493203\tbest: 0.9493203 (100)\ttotal: 2.83s\tremaining: 9.71s\n",
      "200:\ttest: 0.9547116\tbest: 0.9547678 (199)\ttotal: 5.69s\tremaining: 6.99s\n",
      "300:\ttest: 0.9551119\tbest: 0.9551588 (269)\ttotal: 8.98s\tremaining: 4.38s\n"
     ]
    },
    {
     "name": "stderr",
     "output_type": "stream",
     "text": [
      "[I 2024-10-28 19:44:58,192] Trial 47 finished with value: 0.9551587736630128 and parameters: {'iterations': 448, 'depth': 5, 'learning_rate': 0.2312761644466629, 'l2_leaf_reg': 8.15039548300433, 'border_count': 103, 'random_strength': 6.010514111551049, 'bagging_temperature': 0.26635716240723806}. Best is trial 45 with value: 0.9573391118516839.\n"
     ]
    },
    {
     "name": "stdout",
     "output_type": "stream",
     "text": [
      "Stopped by overfitting detector  (50 iterations wait)\n",
      "\n",
      "bestTest = 0.9551587737\n",
      "bestIteration = 269\n",
      "\n",
      "Shrink model to first 270 iterations.\n",
      "0:\ttest: 0.8603148\tbest: 0.8603148 (0)\ttotal: 40ms\tremaining: 15.8s\n",
      "100:\ttest: 0.9485572\tbest: 0.9485775 (99)\ttotal: 2.94s\tremaining: 8.57s\n",
      "200:\ttest: 0.9547076\tbest: 0.9547662 (197)\ttotal: 6.36s\tremaining: 6.17s\n"
     ]
    },
    {
     "name": "stderr",
     "output_type": "stream",
     "text": [
      "[I 2024-10-28 19:45:07,172] Trial 48 finished with value: 0.9553487259595629 and parameters: {'iterations': 396, 'depth': 6, 'learning_rate': 0.2053109534374222, 'l2_leaf_reg': 6.92007201642854, 'border_count': 215, 'random_strength': 7.110219009108668, 'bagging_temperature': 0.16470237794169318}. Best is trial 45 with value: 0.9573391118516839.\n"
     ]
    },
    {
     "name": "stdout",
     "output_type": "stream",
     "text": [
      "Stopped by overfitting detector  (50 iterations wait)\n",
      "\n",
      "bestTest = 0.955348726\n",
      "bestIteration = 218\n",
      "\n",
      "Shrink model to first 219 iterations.\n",
      "0:\ttest: 0.8494809\tbest: 0.8494809 (0)\ttotal: 24.7ms\tremaining: 10.4s\n",
      "100:\ttest: 0.9279755\tbest: 0.9279755 (100)\ttotal: 3.63s\tremaining: 11.5s\n",
      "200:\ttest: 0.9314675\tbest: 0.9314675 (200)\ttotal: 6.79s\tremaining: 7.4s\n",
      "300:\ttest: 0.9412641\tbest: 0.9412641 (300)\ttotal: 11.4s\tremaining: 4.49s\n",
      "400:\ttest: 0.9501568\tbest: 0.9501568 (400)\ttotal: 17.2s\tremaining: 815ms\n"
     ]
    },
    {
     "name": "stderr",
     "output_type": "stream",
     "text": [
      "[I 2024-10-28 19:45:25,865] Trial 49 finished with value: 0.9507771797966489 and parameters: {'iterations': 420, 'depth': 9, 'learning_rate': 0.0483945935843489, 'l2_leaf_reg': 4.5620618173798615, 'border_count': 246, 'random_strength': 7.873841939442395, 'bagging_temperature': 0.44945384576372727}. Best is trial 45 with value: 0.9573391118516839.\n"
     ]
    },
    {
     "name": "stdout",
     "output_type": "stream",
     "text": [
      "419:\ttest: 0.9507772\tbest: 0.9507772 (419)\ttotal: 18.4s\tremaining: 0us\n",
      "\n",
      "bestTest = 0.9507771798\n",
      "bestIteration = 419\n",
      "\n",
      "Лучшие параметры: {'iterations': 444, 'depth': 5, 'learning_rate': 0.21408409984938614, 'l2_leaf_reg': 8.242948971715437, 'border_count': 235, 'random_strength': 6.919881982509901, 'bagging_temperature': 0.2651439055521341}\n"
     ]
    }
   ],
   "source": [
    "# Создаем функцию для Optuna, которая оптимизирует гиперпараметры модели\n",
    "def objective(trial):\n",
    "    # Определяем пространство поиска гиперпараметров\n",
    "    params = {\n",
    "        'iterations': trial.suggest_int('iterations', 100, 500),\n",
    "        'depth': trial.suggest_int('depth', 4, 10),\n",
    "        'learning_rate': trial.suggest_float('learning_rate', 0.01, 0.3),\n",
    "        'l2_leaf_reg': trial.suggest_float('l2_leaf_reg', 1, 10),\n",
    "        'border_count': trial.suggest_int('border_count', 32, 255),\n",
    "        'random_strength': trial.suggest_float('random_strength', 0.1, 10),\n",
    "        'bagging_temperature': trial.suggest_float('bagging_temperature', 0, 1),\n",
    "        'verbose': 0\n",
    "    }\n",
    "\n",
    "    # Инициализируем и обучаем модель CatBoostClassifier с текущими гиперпараметрами\n",
    "    model = CatBoostClassifier(**params, \n",
    "                               loss_function='Logloss',\n",
    "                               eval_metric='AUC',\n",
    "                               auto_class_weights='Balanced', \n",
    "                               random_state=42,\n",
    "                               cat_features=cat_features)\n",
    "    model.fit(X_train, y_train, eval_set=(X_valid, y_valid), verbose=100, early_stopping_rounds=50)\n",
    "    \n",
    "    # Предсказания вероятностей положительного класса\n",
    "    preds_proba = model.predict_proba(X_valid)[:, 1]\n",
    "    # Вычисляем значение метрики ROC AUC\n",
    "    roc_auc = roc_auc_score(y_valid, preds_proba)\n",
    "    \n",
    "    # Оптимизируем метрику accuracy\n",
    "    return roc_auc\n",
    "\n",
    "# Запускаем оптимизацию с помощью Optuna\n",
    "study = optuna.create_study(direction='maximize')\n",
    "study.optimize(objective, n_trials=50)  # Количество итераций оптимизации\n",
    "\n",
    "# Получаем лучшие гиперпараметры\n",
    "best_params = study.best_params\n",
    "print(\"Лучшие параметры:\", best_params)"
   ]
  },
  {
   "cell_type": "code",
   "execution_count": 28,
   "id": "e2f9fa14",
   "metadata": {
    "execution": {
     "iopub.execute_input": "2024-10-28T19:45:25.943634Z",
     "iopub.status.busy": "2024-10-28T19:45:25.943330Z",
     "iopub.status.idle": "2024-10-28T19:45:39.086199Z",
     "shell.execute_reply": "2024-10-28T19:45:39.085161Z"
    },
    "papermill": {
     "duration": 13.180421,
     "end_time": "2024-10-28T19:45:39.088605",
     "exception": false,
     "start_time": "2024-10-28T19:45:25.908184",
     "status": "completed"
    },
    "tags": []
   },
   "outputs": [
    {
     "name": "stdout",
     "output_type": "stream",
     "text": [
      "0:\ttest: 0.8656295\tbest: 0.8656295 (0)\ttotal: 30.4ms\tremaining: 13.5s\n",
      "100:\ttest: 0.9493808\tbest: 0.9493808 (100)\ttotal: 2.86s\tremaining: 9.73s\n",
      "200:\ttest: 0.9554595\tbest: 0.9554595 (200)\ttotal: 6.1s\tremaining: 7.38s\n",
      "300:\ttest: 0.9567025\tbest: 0.9567731 (274)\ttotal: 9.03s\tremaining: 4.29s\n",
      "400:\ttest: 0.9572083\tbest: 0.9573391 (357)\ttotal: 11.8s\tremaining: 1.27s\n",
      "443:\ttest: 0.9570994\tbest: 0.9573391 (357)\ttotal: 13s\tremaining: 0us\n",
      "\n",
      "bestTest = 0.9573391119\n",
      "bestIteration = 357\n",
      "\n",
      "Shrink model to first 358 iterations.\n"
     ]
    },
    {
     "data": {
      "text/plain": [
       "<catboost.core.CatBoostClassifier at 0x7f27c4843d60>"
      ]
     },
     "execution_count": 28,
     "metadata": {},
     "output_type": "execute_result"
    }
   ],
   "source": [
    "optuna_model = CatBoostClassifier(\n",
    "    **best_params,\n",
    "    loss_function='Logloss',\n",
    "    eval_metric='AUC',\n",
    "    auto_class_weights='Balanced',\n",
    "    cat_features=cat_features,\n",
    "    use_best_model = True,\n",
    "    random_seed=42             \n",
    ")\n",
    "\n",
    "optuna_model.fit(X_train, y_train, eval_set=(X_valid, y_valid), verbose=100)"
   ]
  },
  {
   "cell_type": "code",
   "execution_count": 29,
   "id": "41bb3490",
   "metadata": {
    "execution": {
     "iopub.execute_input": "2024-10-28T19:45:39.159080Z",
     "iopub.status.busy": "2024-10-28T19:45:39.158766Z",
     "iopub.status.idle": "2024-10-28T19:45:39.645743Z",
     "shell.execute_reply": "2024-10-28T19:45:39.644794Z"
    },
    "papermill": {
     "duration": 0.524625,
     "end_time": "2024-10-28T19:45:39.647960",
     "exception": false,
     "start_time": "2024-10-28T19:45:39.123335",
     "status": "completed"
    },
    "tags": []
   },
   "outputs": [
    {
     "data": {
      "image/png": "[encoded data removed]",
      "text/plain": [
       "<Figure size 2000x800 with 1 Axes>"
      ]
     },
     "metadata": {},
     "output_type": "display_data"
    }
   ],
   "source": [
    "find_feature_importance_catboost(X_train, y_train, cat_features, optuna_model)"
   ]
  },
  {
   "cell_type": "code",
   "execution_count": 30,
   "id": "e8cb8ce2",
   "metadata": {
    "execution": {
     "iopub.execute_input": "2024-10-28T19:45:39.719849Z",
     "iopub.status.busy": "2024-10-28T19:45:39.719483Z",
     "iopub.status.idle": "2024-10-28T19:45:39.808749Z",
     "shell.execute_reply": "2024-10-28T19:45:39.807781Z"
    },
    "papermill": {
     "duration": 0.12707,
     "end_time": "2024-10-28T19:45:39.810689",
     "exception": false,
     "start_time": "2024-10-28T19:45:39.683619",
     "status": "completed"
    },
    "tags": []
   },
   "outputs": [
    {
     "name": "stdout",
     "output_type": "stream",
     "text": [
      "Optimal threshold:  0.67\n"
     ]
    }
   ],
   "source": [
    "optuna_model_threshold = find_best_threshold(X_build, y_build, optuna_model)\n",
    "print('Optimal threshold: ', model_threshold)"
   ]
  },
  {
   "cell_type": "code",
   "execution_count": 31,
   "id": "d4d14a08",
   "metadata": {
    "execution": {
     "iopub.execute_input": "2024-10-28T19:45:39.882891Z",
     "iopub.status.busy": "2024-10-28T19:45:39.882574Z",
     "iopub.status.idle": "2024-10-28T19:45:39.917334Z",
     "shell.execute_reply": "2024-10-28T19:45:39.916336Z"
    },
    "papermill": {
     "duration": 0.073145,
     "end_time": "2024-10-28T19:45:39.919172",
     "exception": false,
     "start_time": "2024-10-28T19:45:39.846027",
     "status": "completed"
    },
    "tags": []
   },
   "outputs": [
    {
     "name": "stdout",
     "output_type": "stream",
     "text": [
      "Accuracy score:  0.9528275078147201\n",
      "Recall score:  0.8665207877461707\n",
      "Precision score:  0.7904191616766467\n",
      "ROC-AUC score:  0.9593364629257058\n"
     ]
    }
   ],
   "source": [
    "# Evaluation of the deferred test sample\n",
    "predictions = optuna_model.predict(X_test)\n",
    "predictions_proba = optuna_model.predict_proba(X_test)[:, 1]\n",
    "predictions = [1 if k >= optuna_model_threshold else 0 for k in predictions_proba]\n",
    "\n",
    "print('Accuracy score: ', accuracy_score(predictions, y_test))\n",
    "print('Recall score: ', recall_score(predictions, y_test))\n",
    "print('Precision score: ', precision_score(predictions, y_test))\n",
    "print('ROC-AUC score: ', roc_auc_score(y_test, predictions_proba))"
   ]
  },
  {
   "cell_type": "code",
   "execution_count": null,
   "id": "844ade3e",
   "metadata": {
    "papermill": {
     "duration": 0.03511,
     "end_time": "2024-10-28T19:45:39.989445",
     "exception": false,
     "start_time": "2024-10-28T19:45:39.954335",
     "status": "completed"
    },
    "tags": []
   },
   "outputs": [],
   "source": []
  }
 ],
 "metadata": {
  "kaggle": {
   "accelerator": "nvidiaTeslaT4",
   "dataSources": [
    {
     "databundleVersionId": 9709193,
     "sourceId": 84894,
     "sourceType": "competition"
    }
   ],
   "dockerImageVersionId": 30786,
   "isGpuEnabled": true,
   "isInternetEnabled": true,
   "language": "python",
   "sourceType": "notebook"
  },
  "kernelspec": {
   "display_name": "Python 3",
   "language": "python",
   "name": "python3"
  },
  "language_info": {
   "codemirror_mode": {
    "name": "ipython",
    "version": 3
   },
   "file_extension": ".py",
   "mimetype": "text/x-python",
   "name": "python",
   "nbconvert_exporter": "python",
   "pygments_lexer": "ipython3",
   "version": "3.10.14"
  },
  "papermill": {
   "default_parameters": {},
   "duration": 501.244647,
   "end_time": "2024-10-28T19:45:40.643448",
   "environment_variables": {},
   "exception": null,
   "input_path": "__notebook__.ipynb",
   "output_path": "__notebook__.ipynb",
   "parameters": {},
   "start_time": "2024-10-28T19:37:19.398801",
   "version": "2.6.0"
  }
 },
 "nbformat": 4,
 "nbformat_minor": 5
}
